{
 "cells": [
  {
   "cell_type": "markdown",
   "id": "d9f5043ec0bcbe9a",
   "metadata": {},
   "source": [
    "## ¿Qué es una API?\n",
    "___\n",
    "<img style=\"display: block; margin: auto;\" src=\"images/api.png\" title=\"git\" width=\"680\" height=\"50\">\n",
    "\n",
    "Una **Interfaz de Programa de Aplicación** (API):\n",
    "\n",
    "- Define las reglas que se deben seguir para comunicarse con otros sistemas de software.\n",
    "\n",
    "- Es un conjunto de definiciones y protocolos que permiten que diferentes aplicaciones se comuniquen entre sí. En términos simples, es un intermediario que permite que dos aplicaciones hablen entre sí.\n",
    "\n",
    "Los desarrolladores exponen o crean una **API** para que otras aplicaciones puedan comunicarse con sus aplicaciones mediante programación.\n",
    "\n",
    "+ La aplicación de planilla de horarios expone una API que solicita el nombre completo de un empleado y un rango de fechas.\n",
    "+ Cuando recibe esta información, procesa internamente la planilla de horarios del empleado y devuelve la cantidad de horas trabajadas en ese rango de fechas.\n",
    "\n",
    "Se puede pensar en una API web como una puerta de enlace entre los clientes y los recursos de la Web."
   ]
  },
  {
   "cell_type": "markdown",
   "id": "1a712d5181dbc5c8",
   "metadata": {},
   "source": [
    "### Clientes\n",
    "\n",
    "+ Usuarios que desean acceder a información desde la Web.\n",
    "+ Persona o un sistema de software que utiliza la API.\n",
    "\n",
    "Por ejemplo, los desarrolladores pueden escribir programas que accedan a los datos del tiempo desde un sistema de clima. También se puede acceder a los mismos datos desde el navegador cuando se visita directamente el sitio web de clima.\n",
    "\n",
    "### Recursos\n",
    "\n",
    "+ Información que diferentes aplicaciones proporcionan a sus clientes.\n",
    "+ Pueden ser imágenes, videos, texto, números o cualquier tipo de datos.\n",
    "+ La máquina encargada de entregar el recurso al cliente también recibe el nombre de servidor.\n",
    "+ Las organizaciones utilizan las API para compartir recursos y proporcionar servicios web, a la vez que mantienen la seguridad, el control y la autenticación.\n",
    "+ Las API las ayudan a determinar qué clientes obtienen acceso a recursos internos específicos.\n",
    "\n",
    "\n",
    "![](https://pbs.twimg.com/media/FD2uneUXMAQlufJ?format=jpg&name=medium)"
   ]
  },
  {
   "cell_type": "markdown",
   "id": "6c59f3b952ed3392",
   "metadata": {},
   "source": [
    "# Arquitecturas de APIs \n",
    "\n",
    "## 1. REST (Representational State Transfer)\n",
    "\n",
    "### Principios de REST\n",
    "- **Estado sin sesión:** Cada solicitud del cliente al servidor debe contener toda la información necesaria para entender y procesar la solicitud. El servidor no almacena el estado del cliente entre solicitudes.\n",
    "- **Cacheabilidad:** Las respuestas deben definir si son cacheables para optimizar las solicitudes subsecuentes.\n",
    "- **Interfaz Uniforme:** La interacción entre los clientes y los servidores se debe realizar de una manera estandarizada y predecible.\n",
    "\n",
    "### Recursos y URLs:\n",
    "Un recurso es cualquier tipo de información que puede ser nombrada (por ejemplo, un usuario, un archivo, un pedido). Cada recurso se identifica con una URL única.\n",
    "  \n",
    "## 2. SOAP (Simple Object Access Protocol):\n",
    "Un protocolo basado en XML que permite la comunicación entre aplicaciones a través de la red. Más estricto y complejo que REST, pero ofrece más seguridad en algunos casos.\n",
    "\n",
    "## 3. GraphQL:\n",
    "Desarrollado por Facebook, GraphQL permite que el cliente especifique exactamente qué datos necesita en una sola solicitud, reduciendo la cantidad de datos innecesarios transmitidos.\n",
    "\n",
    "## 4. gRPC (Google Remote Procedure Call):\n",
    "Un sistema de comunicación eficiente que utiliza Protobuf en lugar de JSON para transmitir datos. Es ideal para microservicios debido a su bajo consumo de ancho de banda y alta velocidad."
   ]
  },
  {
   "cell_type": "markdown",
   "id": "7349efccf146a9e5",
   "metadata": {},
   "source": [
    "# ¿Cómo funcionan las API RESTful?\n",
    "\n",
    "La función básica de una API RESTful es la misma que navegar por Internet. Cuando requiere un recurso, el cliente se pone en contacto con el servidor mediante la API.\n",
    "\n",
    "Pasos generales para cualquier llamada a la API REST:\n",
    "\n",
    "- El cliente envía una solicitud al servidor. El cliente sigue la documentación de la API para dar formato a la solicitud de una manera que el servidor comprenda.\n",
    "- El servidor autentica al cliente y confirma que este tiene el derecho de hacer dicha solicitud.\n",
    "- El servidor recibe la solicitud y la procesa internamente.\n",
    "- El servidor devuelve una respuesta al cliente. Esta respuesta contiene información que dice al cliente si la solicitud se procesó de manera correcta. La respuesta también incluye cualquier información que el cliente haya solicitado.\n",
    "\n",
    "**Los detalles de la solicitud y la respuesta de la API REST varían un poco en función de cómo los desarrolladores de la API la hayan diseñado.**\n",
    "\n",
    "![](https://www.astera.com/wp-content/uploads/2020/01/rest.png)"
   ]
  },
  {
   "cell_type": "markdown",
   "id": "b2fea7c1a17e8fe8",
   "metadata": {},
   "source": [
    "## ¿Qué contiene la solicitud del cliente de la API RESTful?\n",
    "\n",
    "Las API RESTful requieren que las solicitudes contengan los siguientes componentes principales:\n",
    "\n",
    "### 1. Identificador único de recursos\n",
    "\n",
    "+ El servidor identifica cada recurso con identificadores únicos de recursos.\n",
    "+ En los servicios REST, el servidor por lo general identifica los recursos mediante el uso de un **localizador uniforme de recursos** (URL).\n",
    "+ El URL especifica la ruta hacia el recurso.\n",
    "+ Un URL es similar a la dirección de un sitio web que se ingresa al navegador para visitar cualquier página web.\n",
    "+ El URL también se denomina punto de conexión (endpoint) de la solicitud y específica con claridad al servidor qué requiere el cliente.\n",
    "\n",
    "### 2. Método\n",
    "[https://developer.mozilla.org/en-US/docs/Web/HTTP/Methods](https://developer.mozilla.org/en-US/docs/Web/HTTP/Methods)\n",
    "\n",
    "Los desarrolladores a menudo implementan API RESTful mediante el uso del protocolo de transferencia de hipertexto (HTTP).\n",
    "\n",
    "Un método de HTTP informa al servidor lo que debe hacer con el recurso. A continuación, se indican cuatro métodos de HTTP comunes:\n",
    "\n",
    "- `GET`: Los clientes utilizan GET para acceder a los recursos que están ubicados en el URL especificado en el servidor. Pueden almacenar en caché las solicitudes GET y enviar parámetros en la solicitud de la API RESTful para indicar al servidor que filtre los datos antes de enviarlos.\n",
    "- `POST`: Los clientes usan POST para enviar datos al servidor. Incluyen la representación de los datos con la solicitud. Enviar la misma solicitud POST varias veces produce el efecto secundario de crear el mismo recurso varias veces.\n",
    "- `PUT`: Los clientes utilizan PUT para actualizar los recursos existentes en el servidor. A diferencia de POST, el envío de la misma solicitud PUT varias veces en un servicio web RESTful da el mismo resultado.\n",
    "- `DELETE`: Los clientes utilizan la solicitud DELETE para eliminar el recurso. Una solicitud DELETE puede cambiar el estado del servidor. Sin embargo, si el usuario no cuenta con la autenticación adecuada, la solicitud fallará.\n",
    "\n",
    "### 3. Encabezados de HTTP\n",
    "\n",
    "Los encabezados de solicitudes son los metadatos que se intercambian entre el cliente y el servidor. Por ejemplo, el encabezado de la solicitud indica el formato de la solicitud y la respuesta, proporciona información sobre el estado de la solicitud, etc.\n",
    "\n",
    "- **Datos:** Las solicitudes de la API REST pueden incluir datos para que los métodos POST, PUT y otros métodos HTTP funcionen de manera correcta.\n",
    "\n",
    "- **Parámetros:** Las solicitudes de la API RESTful pueden incluir parámetros que brindan al servidor más detalles sobre lo que se debe hacer. A continuación, se indican algunos tipos de parámetros diferentes:\n",
    "\n",
    "    - Los parámetros de ruta especifican los detalles del URL.\n",
    "    - Los parámetros de consulta solicitan más información acerca del recurso.\n",
    "    - Los parámetros de cookie autentican a los clientes con rapidez.\n",
    "___"
   ]
  },
  {
   "cell_type": "markdown",
   "id": "ccff56eb23459f78",
   "metadata": {},
   "source": [
    "## ¿Qué contiene la respuesta del servidor de la API RESTful?\n",
    "\n",
    "Los principios de REST requieren que la respuesta del servidor contenga los siguientes componentes principales:\n",
    "\n",
    "### 1. Línea de estado\n",
    "[https://developer.mozilla.org/en-US/docs/Web/HTTP/Status](https://developer.mozilla.org/en-US/docs/Web/HTTP/Status)\n",
    "\n",
    "La línea de estado contiene un código de estado de tres dígitos que comunica si la solicitud se procesó de manera correcta o dio error. Por ejemplo, los códigos 2XX indican el procesamiento correcto, pero los códigos 4XX y 5XX indican errores. Los códigos 3XX indican la redirección de URL.\n",
    "\n",
    "![](http://e-webdevelopment.be/wp-content/uploads/2020/02/seo-http-statuscode.jpg)\n",
    "\n",
    "A continuación, se enumeran algunos códigos de estado comunes:\n",
    "- 200: respuesta genérica de procesamiento correcto\n",
    "- 201: respuesta de procesamiento correcto del método POST\n",
    "- 400: respuesta incorrecta que el servidor no puede procesar\n",
    "- 404: recurso no encontrado\n",
    "\n",
    "### 2. Cuerpo del mensaje\n",
    "\n",
    "- El cuerpo de la respuesta contiene la representación del recurso.\n",
    "- El servidor selecciona un formato de representación adecuado en función de lo que contienen los encabezados de la solicitud.\n",
    "- Los clientes pueden solicitar información en los formatos **XML** o **JSON**, lo que define cómo se escriben los datos en texto sin formato.\n",
    "- Por ejemplo, si el cliente solicita el nombre y la edad de una persona llamada John, el servidor devuelve una representación JSON como la siguiente:\n",
    "\n",
    "`'{\"name\":\"John\", \"age\":30}'`\n",
    "\n",
    "### 3. Encabezados\n",
    "\n",
    "La respuesta también contiene encabezados o metadatos acerca de la respuesta. Estos brindan más contexto sobre la respuesta e incluyen información como el servidor, la codificación, la fecha y el tipo de contenido.\n",
    "___"
   ]
  },
  {
   "cell_type": "markdown",
   "id": "cf25ea093c4acf0a",
   "metadata": {},
   "source": [
    "## ¿Qué son los métodos de autenticación de la API RESTful?\n",
    "\n",
    "+ Un servicio web RESTful debe autenticar las solicitudes antes de poder enviar una respuesta.\n",
    "+ La autenticación es el proceso de verificar una identidad.\n",
    "+ Los clientes de los servicios RESTful deben demostrar su identidad al servidor para establecer confianza.\n",
    "\n",
    "La API RESTful tiene cuatro métodos comunes de autenticación:\n",
    "### 1. Autenticación HTTP\n",
    "\n",
    "HTTP define algunos esquemas de autenticación que se pueden utilizar directamente cuando se implementa la API REST. A continuación, se indican dos de estos esquemas:\n",
    "\n",
    "#### 1.1 Autenticación básica\n",
    "\n",
    "En la autenticación básica, el cliente envía el nombre y la contraseña del usuario en el encabezado de la solicitud. Los codifica con base64, que es una técnica de codificación que convierte el par en un conjunto de 64 caracteres para su transmisión segura.\n",
    "\n",
    "#### 1.2 Autenticación del portador\n",
    "\n",
    "El término autenticación del portador se refiere al proceso de brindar el control de acceso al portador del token. El token del portador suele ser una cadena de caracteres cifrada que genera el servidor como respuesta a una solicitud de inicio de sesión. El cliente envía el token en los encabezados de la solicitud para acceder a los recursos.\n",
    "\n",
    "### 2. Claves de la API\n",
    "\n",
    "+ En este enfoque, el servidor asigna un valor único generado a un cliente por primera vez.\n",
    "+ Cada vez que el cliente intenta acceder a los recursos, utiliza la clave de API única para su verificación.\n",
    "+ Las claves de API son menos seguras debido a que el cliente debe transmitir la clave, lo que la vuelve vulnerable al robo de red.\n",
    "\n",
    "### 3. OAuth\n",
    "\n",
    "- **OAuth** combina contraseñas y tokens para el acceso de inicio de sesión de alta seguridad a cualquier sistema.\n",
    "- El servidor primero solicita una contraseña y luego solicita un token adicional para completar el proceso de autorización.\n",
    "- Puede verificar el token en cualquier momento y, también, a lo largo del tiempo, con un alcance y duración específicos.\n",
    "___"
   ]
  },
  {
   "cell_type": "markdown",
   "id": "234a0534a12781c4",
   "metadata": {},
   "source": [
    "## API públicas\n",
    "\n",
    "Vamos a explorar algunas API públicas y ver todos los componentes que acabamos de estudiar.\n",
    "\n",
    "[Opción 1](https://github.com/public-apis/public-apis)\n",
    "\n",
    "[Opción 2](https://github.com/public-api-lists/public-api-lists)\n",
    "\n",
    "Ahora vamos a descargar [postman](https://www.postman.com/downloads/?utm_source=postman-home) y explorar las APIs con esta herramienta.\n",
    "\n",
    "[Rick and Morty](https://rickandmortyapi.com/)\n",
    "\n",
    "[Dad jokes](https://icanhazdadjoke.com/api#search-for-dad-jokes)"
   ]
  },
  {
   "cell_type": "markdown",
   "id": "8c7f28b797bb0480",
   "metadata": {},
   "source": [
    "## Enlances con información adicional\n",
    "[https://github.com/microsoft/api-guidelines](https://github.com/microsoft/api-guidelines)\n",
    "[https://martinfowler.com/articles/richardsonMaturityModel.html](https://martinfowler.com/articles/richardsonMaturityModel.html)"
   ]
  },
  {
   "cell_type": "markdown",
   "id": "383cc1ec40a508cf",
   "metadata": {},
   "source": [
    "## Type Hints\n",
    "`Python` tiene soporte opcional para \"type hints\".\n",
    "\n",
    "Estos \"type hints\"son una sintáxis especial que permite declarar el tipo de dato de una variable.\n",
    "\n",
    "Declarando los tipos de variables, los editores y herramientas pueden darnos mejor soporte.\n",
    "\n",
    "`FastAPI` es basado en estos `type hints`, ya que proveen muchas ventajas y beneficios."
   ]
  },
  {
   "cell_type": "code",
   "execution_count": null,
   "id": "initial_id",
   "metadata": {
    "collapsed": true,
    "jupyter": {
     "outputs_hidden": true
    }
   },
   "outputs": [],
   "source": [
    "def get_full_name(first_name, last_name):\n",
    "    return first_name.title() + \" \" + last_name.title()\n",
    "\n",
    "print(get_full_name('cristian', 'zapata'))"
   ]
  },
  {
   "cell_type": "code",
   "id": "5f20e86f06f8d10b",
   "metadata": {
    "ExecuteTime": {
     "end_time": "2024-08-23T03:02:07.571080Z",
     "start_time": "2024-08-23T03:02:07.563043Z"
    }
   },
   "source": [
    "def get_name_with_age(name: str, age: int):\n",
    "    return name + \" \" + str(age)\n",
    "\n",
    "get_name_with_age('Cristian', 32)"
   ],
   "outputs": [
    {
     "data": {
      "text/plain": [
       "'Cristian 32'"
      ]
     },
     "execution_count": 2,
     "metadata": {},
     "output_type": "execute_result"
    }
   ],
   "execution_count": 2
  },
  {
   "cell_type": "markdown",
   "id": "ab662589f61e404d",
   "metadata": {},
   "source": [
    "### Qué pasa con las estructuras de datos?\n",
    "Hay algunas estructuras de datos que pueden contener otros valores, como `dict`, `list`, `set` y `tuple`. Y los valores internos también pueden tener su propio tipo.\n",
    "\n",
    "Estos tipos que tienen tipos internos se denominan tipos \"genéricos\". Y es posible declararlos, incluso con sus tipos internos.\n",
    "\n",
    "Para declarar esos tipos y los tipos internos, puede usar el módulo estándar de Python `typing`. Este módulo existe específicamente para admitir estas sugerencias de tipo.\n",
    "\n",
    "La sintaxis mediante `typing` es compatible con todas las versiones de `Python`, desde `Python` 3.6 hasta las últimas, pasando por `Python` 3.9, Python 3.10, etc.\n",
    "\n",
    "A medida que `Python` avanza, las versiones más nuevas vienen con soporte mejorado para estas  “type hints” y, en muchos casos, ni siquiera necesitará importar y usar el módulo de `typing` para declarar las  “type hints”.\n",
    "\n",
    "[https://fastapi.tiangolo.com/python-types/#generic-types-with-type-parameters](https://fastapi.tiangolo.com/python-types/#generic-types-with-type-parameters)"
   ]
  },
  {
   "cell_type": "code",
   "execution_count": null,
   "id": "1bf3aa494f84236c",
   "metadata": {},
   "outputs": [],
   "source": [
    "# Para Python 3.8-\n",
    "from typing import List, Dict\n",
    "\n",
    "# Listas\n",
    "def process_items(items: list[int]):\n",
    "    for item in items:\n",
    "        print(item)\n",
    "\n",
    "# Tuplas y conjuntos\n",
    "def process_items(items_t: tuple[int, int, str], items_s: set[bytes]):\n",
    "    return items_t, items_s\n",
    "\n",
    "# Diccionarios\n",
    "def process_items(prices: dict[str, float]):\n",
    "    for item_name, item_price in prices.items():\n",
    "        print(item_name)\n",
    "        print(item_price)\n",
    "\n",
    "# Union (A partir de Python 3.10 no es necesario importar)\n",
    "from typing import Union\n",
    "\n",
    "# Para Python 3.10 Union[int, str]  ----> int | str\n",
    "def process_item(item: Union[int, str]):\n",
    "    print(item)\n",
    "\n",
    "def process_item(item: int | str):\n",
    "    print(item)"
   ]
  },
  {
   "cell_type": "markdown",
   "id": "4c23b1786a8e2248",
   "metadata": {},
   "source": [
    "#### Usando `Union` u `Optional`\n",
    "\n",
    "Si usamos `Python` 3.9 o inferior:\n",
    "\n",
    "- Evitar usar `Optional[Algo]`\n",
    "- En lugar, usar `Union[Algo, None]`\n",
    "\n",
    "Ambos son equivalentes, y hacen lo mismo, pero `Optional` nos dice que la variable es **OPCIONAL**, pero en realidad queremos que la variable \"pueda ser `None`\", y aunque no sea opcional y que sea requerida.\n",
    "\n",
    "`Union[Algo, None]` es más explícito.\n"
   ]
  },
  {
   "cell_type": "code",
   "execution_count": null,
   "id": "5d7a58b0f58a905f",
   "metadata": {},
   "outputs": [],
   "source": [
    "# Opcional (None)\n",
    "# Optional[Algo] es un shortcut para Union[Algo, None], son equivalentes.\n",
    "# Para Python 3.10 Union[str, None]  ----> str | None\n",
    "from typing import Optional\n",
    "\n",
    "def say_hi(name: Optional[str] = None):\n",
    "    if name is not None:\n",
    "        print(f\"Hey {name}!\")\n",
    "    else:\n",
    "        print(\"Hello World\")\n",
    "\n",
    "def say_hi(name: Union[str, None] = None):\n",
    "    if name is not None:\n",
    "        print(f\"Hey {name}!\")\n",
    "    else:\n",
    "        print(\"Hello World\")\n",
    "        \n",
    "# Para Python 3.10\n",
    "def say_hi(name: str | None = None):\n",
    "    if name is not None:\n",
    "        print(f\"Hey {name}!\")\n",
    "    else:\n",
    "        print(\"Hello World\")"
   ]
  },
  {
   "cell_type": "markdown",
   "id": "186fd9dda74cec44",
   "metadata": {},
   "source": [
    "### Clases como tipos\n",
    "Lectura obligo-recomendada\n",
    "[https://fastapi.tiangolo.com/python-types/#pydantic-models](https://fastapi.tiangolo.com/python-types/#pydantic-models)"
   ]
  },
  {
   "cell_type": "code",
   "execution_count": null,
   "id": "a7ff49eaaa3b33a7",
   "metadata": {},
   "outputs": [],
   "source": []
  }
 ],
 "metadata": {
  "kernelspec": {
   "display_name": "Python 3 (ipykernel)",
   "language": "python",
   "name": "python3"
  },
  "language_info": {
   "codemirror_mode": {
    "name": "ipython",
    "version": 3
   },
   "file_extension": ".py",
   "mimetype": "text/x-python",
   "name": "python",
   "nbconvert_exporter": "python",
   "pygments_lexer": "ipython3",
   "version": "3.12.4"
  }
 },
 "nbformat": 4,
 "nbformat_minor": 5
}
