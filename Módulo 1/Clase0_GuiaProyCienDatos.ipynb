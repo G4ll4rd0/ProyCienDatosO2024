{
 "cells": [
  {
   "cell_type": "markdown",
   "metadata": {
    "pycharm": {
     "name": "#%% md\n"
    }
   },
   "source": [
    "___\n",
    "<img style=\"float: right; margin: 0px 0px 15px 15px;\" src=\"https://www.queestudiar.org/wp-content/uploads/2018/10/cienciadatos-750x350.jpg\" width=\"300px\" height=\"100px\" />\n",
    "\n",
    "\n",
    "# <font color= #8A0829> Proyecto en Ciencia de Datos.</font>\n",
    "\n",
    "- <Strong> Cristian Camilo Zapata Zuluaga </Strong>\n",
    "- <Strong> Año: </Strong> 2024 - Otoño\n",
    "- <Strong> Copyright: </Strong> Public Domain como en [CC](https://creativecommons.org/licenses/by/2.0/) (Exepto donde se indique lo contrario)\n",
    "\n",
    "- <Strong> Email: </Strong>  <font color=\"blue\"> cristianz@iteso.mx, zapatacc@gmail.com </font>\n",
    "___"
   ]
  },
  {
   "cell_type": "markdown",
   "metadata": {
    "pycharm": {
     "name": "#%% md\n"
    }
   },
   "source": [
    "## `Presentación de ustedes`\n",
    "___"
   ]
  },
  {
   "cell_type": "markdown",
   "metadata": {
    "pycharm": {
     "name": "#%% md\n"
    }
   },
   "source": [
    "## `Algunas reglas de juego`\n",
    "+ Se tomará asistencia dentro de los 10 primeros minutos de la clase.\n",
    "+ El celular e internet son una gran herramienta en nuestros día a día, úsenla con sabiduría durante la clase.\n",
    "+ **Regla de oro:** Todas las entregas (Trabajos, tareas, examenes) se realizan a través de `canvas` con los plazos asignados. No se aceptan trabajos fuera de la plataforma ni fuera de plazo. No insistan en este punto, no hay negocio.\n",
    "___"
   ]
  },
  {
   "cell_type": "markdown",
   "metadata": {
    "pycharm": {
     "name": "#%% md\n"
    }
   },
   "source": [
    "___\n",
    "## `Horario de asesoría`\n",
    "\n",
    "Horarios disponibles:\n",
    "- Martes o Jueves antes de clases.\n",
    "___"
   ]
  },
  {
   "cell_type": "markdown",
   "metadata": {
    "pycharm": {
     "name": "#%% md\n"
    }
   },
   "source": [
    "## `Descripción de la asignatura`\n",
    "\n",
    "En el ámbito de la Ciencia de Datos, el desafío no solo radica en la resolución de problemas mediante el desarrollo y entrenamiento de modelos predictivos, sino también en la implementación efectiva y óptima de estas soluciones para alcanzar los objetivos establecidos en un plazo determinado.\n",
    "\n",
    "Una vez que un modelo ha sido entrenado y evaluado, su implementación en un entorno productivo es crucial. En este entorno, los datos generados por el modelo pueden ser utilizados por otros sistemas, procesos o incluso presentados a usuarios finales a través de tableros de visualización para una comunicación efectiva de los resultados. Además, estos datos pueden proporcionar control y retroalimentación al modelo, facilitando su mejora continua.\n",
    "\n",
    "Por lo tanto, el curso \"Proyecto en Ciencia de Datos\" se enfoca en la investigación y ejecución de la implementación de modelos en ambientes productivos, tomando como base la solución o propuesta desarrollada en el curso de Ingeniería de Datos.\n",
    "\n",
    "En esta asignatura, se desarrollarán las competencias necesarias para llevar soluciones de Ciencia de Datos a un entorno de producción profesional, integrando técnicas avanzadas de desarrollo de software y tecnologías de la información (IT). El curso se centra en la aplicación práctica de estas técnicas para asegurar que los modelos de Ciencia de Datos no solo sean efectivos en entornos de prueba, sino también en escenarios de producción donde deben operar de manera confiable y eficiente.\n",
    "\n",
    "A través de los tres módulos del curso, los estudiantes aprenderán:\n",
    "\n",
    "1. Fundamentos de Python y Herramientas de Desarrollo: Conceptos básicos de Python, control de versiones con Git, creación de entornos virtuales, sistemas de recomendación personalizados y APIs.\n",
    "2. Introducción a MLOps y Diseño de Sistemas de Machine Learning: Principios de MLOps, diseño de sistemas de ML escalables, y diferencias entre despliegue batch y online.\n",
    "3. Despliegue y Monitoreo de Modelos en Producción: Implementación de modelos como servicio, uso de Docker y APIs, despliegue en AWS, y prácticas de monitoreo y mantenimiento utilizando MLflow y Mage.\n",
    "\n",
    "Con estas competencias, los estudiantes estarán equipados para enfrentar los retos de llevar modelos de Ciencia de Datos desde la etapa de desarrollo hasta un entorno productivo, asegurando su funcionalidad y efectividad a lo largo del tiempo.\n",
    "\n",
    "\n"
   ]
  },
  {
   "cell_type": "markdown",
   "metadata": {
    "pycharm": {
     "name": "#%% md\n"
    }
   },
   "source": [
    "## `Objetivo general `\n",
    ">  <p style='text-align: justify;'> El objetivo del curso \"Proyecto en Ciencia de Datos\" es proporcionar a los estudiantes las competencias necesarias para llevar modelos y soluciones de Ciencia de Datos desde el desarrollo hasta un entorno de producción profesional. Esto incluye el aprendizaje y la aplicación de técnicas avanzadas para el desarrollo de software, la implementación y despliegue de modelos predictivos, así como la integración de estos modelos en sistemas productivos. Los estudiantes adquirirán habilidades para asegurar que las soluciones sean eficientes, escalables y capaces de proporcionar valor continuo a través del monitoreo y la retroalimentación en el entorno de producción.</p>"
   ]
  },
  {
   "cell_type": "markdown",
   "metadata": {
    "pycharm": {
     "name": "#%% md\n"
    }
   },
   "source": [
    "## `Temas y subtemas`"
   ]
  },
  {
   "cell_type": "markdown",
   "metadata": {
    "pycharm": {
     "name": "#%% md\n"
    }
   },
   "source": [
    "`Módulo 1.` **Fundamentos de Python.**\n",
    "   1. Introducción a Python \n",
    "   2. ¿Qué es Git? - Git & Github\n",
    "   3. Ambientes Virtuales (Virtual Environment).\n",
    "   4. Sistemas de recomendación personalizados/NLP (LLM's)\n",
    "   5. Introducción a la interfaz de programación de aplicaciones (API)."
   ]
  },
  {
   "cell_type": "markdown",
   "metadata": {
    "pycharm": {
     "name": "#%% md\n"
    }
   },
   "source": [
    "`Módulo 2.`  **Introducción a MLOps y Diseño de Sistemas de Machine Learning**\n",
    "\n",
    "   1. Fundamentos de MLOps:\n",
    "        - ¿Por qué hacer MLOps? Beneficios y desafíos.\n",
    "        - Niveles de madurez de MLOps.\n",
    "        - Introducción al diseño de sistemas de Machine Learning para producción.\n",
    "\n",
    "   2. Diseño de Sistemas de Machine Learning:\n",
    "        - Principios de diseño para aplicaciones escalables de ML.\n",
    "        - Diferencias entre despliegue batch y online."
   ]
  },
  {
   "cell_type": "markdown",
   "metadata": {
    "pycharm": {
     "name": "#%% md\n"
    }
   },
   "source": [
    "`Módulo 3.`  **Desplegando, Monitoreando y Gestionando Modelos de Machine Learning Escalabless**\n",
    "\n",
    "   1. Introducción al despliegue de modelos como servicio (Model as a Service).\n",
    "        - Uso de Docker y APIs para la creación de servicios web.\n",
    "        - Despliegue de modelos escalables utilizando AWS.\n",
    "     \n",
    "   2. Tracking, Registro y Monitoreo de Modelos:\n",
    "        - Introducción a MLflow para tracking de experimentos y Model Registry.\n",
    "        - Monitoreo de modelos en producción.\n",
    "        - Orquestación de flujos de trabajo con Mage.\n",
    "        - Buenas prácticas para asegurar la calidad y escalabilidad de los modelos en producción.\n"
   ]
  },
  {
   "cell_type": "markdown",
   "metadata": {
    "pycharm": {
     "name": "#%% md\n"
    }
   },
   "source": [
    "## `Evaluación`\n",
    "\n",
    "- **1 Proyecto (trabajo en equipo) 30%**\n",
    "  - La evaluación del proyecto se divide en dos partes\n",
    "   - Reporte     15%\n",
    "   - Exposición  15%\n",
    " - <font color=\"red\">Equipos de 2, máximo 3 integrantes. **Esto no se negocia**</font>.\n",
    "\n",
    "- **Exámen final 30%**\n",
    "- **Quices 20%**\n",
    "- **Tareas y actividades de clase 20%**\n",
    "\n",
    "## `Calificación final`\n",
    "Toda calificación que tengan valores menores o iguales a 5 en la posición de las unidades se redondeará al número entero inferior más cercano (por ejemplo 85.9 sería 80) y cuando sean mayor que (estricto) 5 en la posición de unidades se redondeará al número entero mayor más cercano (por ejemplo 86.0 sería 90). Dicho procedimiento de redondeo NO aplica cuando la calificación es menor a 60, es decir 59.9 será 50.\n",
    "\n",
    "## `Tiempos de entrega de trabajos y tareas` \n",
    "Todas las tareas, trabajos y exámenes tendrán una fecha de entrega correspondiente, la cuál será definida durante la clase; y la entrega SIEMPRE será a través de la plataforma CANVAS.  Cualquier entrega fuera de los horarios establecidos quedará a consideración del profesor si se califica con una respectiva penalización:  \n",
    "- Con una (1) hora o menos de retraso en la entrega, se calificará sobre una nota de 8, \n",
    "- Con dos (2) horas o menos (pero más de 1 hora) de retraso en la entrega, se calificará sobre una nota de 7. \n",
    "- Si la entrega tiene 2 horas o más de retraso se revisará la entrega, se devolverá con las respectivas correcciones pero NO se calificará la entrega.\n"
   ]
  },
  {
   "cell_type": "markdown",
   "metadata": {
    "pycharm": {
     "name": "#%% md\n"
    }
   },
   "source": [
    "### `Bibliografía `"
   ]
  },
  {
   "cell_type": "markdown",
   "metadata": {
    "pycharm": {
     "name": "#%% md\n"
    }
   },
   "source": [
    "- Designing Machine Learning Systems by Chip Huyen\n",
    "- Hands-on Machine Learning with Scikit-Learn, Keras & TensorFlow by Aurélien Géron\n",
    "- Fluent Python by Ramalho, Luciano\n",
    "- Python for Scientists by Stewart, John M.\n",
    "- Practical MLOps by Noah Gift\n",
    "Estos y muchos mas libros los pueden encontrar en la Biblioteca."
   ]
  }
 ],
 "metadata": {
  "anaconda-cloud": {},
  "kernelspec": {
   "display_name": "Python 3 (ipykernel)",
   "language": "python",
   "name": "python3"
  },
  "language_info": {
   "codemirror_mode": {
    "name": "ipython",
    "version": 3
   },
   "file_extension": ".py",
   "mimetype": "text/x-python",
   "name": "python",
   "nbconvert_exporter": "python",
   "pygments_lexer": "ipython3",
   "version": "3.9.13"
  }
 },
 "nbformat": 4,
 "nbformat_minor": 4
}
