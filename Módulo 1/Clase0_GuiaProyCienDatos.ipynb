{
 "cells": [
  {
   "cell_type": "markdown",
   "metadata": {
    "pycharm": {
     "name": "#%% md\n"
    }
   },
   "source": [
    "___\n",
    "<img style=\"float: right; margin: 0px 0px 15px 15px;\" src=\"https://www.queestudiar.org/wp-content/uploads/2018/10/cienciadatos-750x350.jpg\" width=\"300px\" height=\"100px\" />\n",
    "\n",
    "\n",
    "# <font color= #8A0829> Proyecto en Ciencia de Datos.</font>\n",
    "\n",
    "- <Strong> Cristian Camilo Zapata Zuluaga </Strong>\n",
    "- <Strong> Año: </Strong> 2024 - Otoño\n",
    "- <Strong> Copyright: </Strong> Public Domain como en [CC](https://creativecommons.org/licenses/by/2.0/) (Exepto donde se indique lo contrario)\n",
    "\n",
    "- <Strong> Email: </Strong>  <font color=\"blue\"> cristianz@iteso.mx, zapatacc@gmail.com </font>\n",
    "___"
   ]
  },
  {
   "cell_type": "markdown",
   "metadata": {
    "pycharm": {
     "name": "#%% md\n"
    }
   },
   "source": [
    "## `Presentación de ustedes`\n",
    "___"
   ]
  },
  {
   "cell_type": "markdown",
   "metadata": {
    "pycharm": {
     "name": "#%% md\n"
    }
   },
   "source": [
    "## `Algunas reglas de juego`\n",
    "+ Se tomará asistencia dentro de los 10 primeros minutos de la clase.\n",
    "+ El celular e internet son una gran herramienta en nuestros día a día, úsenla con sabiduría durante la clase.\n",
    "+ **Regla de oro:** Todas las entregas (Trabajos, tareas, examenes) se realizan a través de `canvas` con los plazos asignados. No se aceptan trabajos fuera de la plataforma ni fuera de plazo. No insistan en este punto, no hay negocio.\n",
    "___"
   ]
  },
  {
   "cell_type": "markdown",
   "metadata": {
    "pycharm": {
     "name": "#%% md\n"
    }
   },
   "source": [
    "___\n",
    "## `Horario de asesoría`\n",
    "\n",
    "Horarios disponibles:\n",
    "- Martes o Jueves antes de clases.\n",
    "___"
   ]
  },
  {
   "cell_type": "markdown",
   "metadata": {
    "pycharm": {
     "name": "#%% md\n"
    }
   },
   "source": [
    "## `Descripción de la asignatura`\n",
    "\n",
    "En la práctica, no sólo es importante saber cómo resolver un problema, sino también como implementar de manera óptima y funcional dicha solución para alcanzar los objetivos planificados en un tiempo determinado.\n",
    "\n",
    "En aplicaciones de proyectos de Ciencia de Datos, la solución del problema no termina en el entrenamiento y evaluación de un modelo predictivo, es necesario llevar dicho modelo a un ambiente productivo. En dicho ambiente, los datos producidos por el modelo pueden ser consumidos por otros sistemas, procesos o incluso por usuarios finales en tableros para la comunicación efectiva de resultados. En específico, esos datos pueden usarse como control y retroalimentación al mismo modelo para realizar mejoras en el mismo.\n",
    "\n",
    "Por tal motivo, se retoma la solución o propuesta desarrollada en el curso de Proyecto de Ingeniería de Datos para investigar y lograr la implementación de modelos en ambientes productivos.\n"
   ]
  },
  {
   "cell_type": "markdown",
   "metadata": {
    "pycharm": {
     "name": "#%% md\n"
    }
   },
   "source": [
    "## `Objetivo general `\n",
    ">  <p style='text-align: justify;'> A partir de técnicas de desarrollo de software y tecnologías de la información (IT), se desarrollarán las competencias necesarias para llevar soluciones de Ciencia de Datos a un entorno de producción profesional..</p>"
   ]
  },
  {
   "cell_type": "markdown",
   "metadata": {
    "pycharm": {
     "name": "#%% md\n"
    }
   },
   "source": [
    "## `Temas y subtemas`"
   ]
  },
  {
   "cell_type": "markdown",
   "metadata": {
    "pycharm": {
     "name": "#%% md\n"
    }
   },
   "source": [
    "`Módulo 1.` **Fundamentos de Python.**\n",
    "   1. Introducción a Python \n",
    "   2. ¿Qué es Git? - Git & Github\n",
    "   3. Ambientes Virtuales (Virtual Environment).\n",
    "   4. Sistemas de recomendación personalizados/NLP (LLM's)\n",
    "   5. Introducción a la interfaz de programación de aplicaciones (API)."
   ]
  },
  {
   "cell_type": "markdown",
   "metadata": {
    "pycharm": {
     "name": "#%% md\n"
    }
   },
   "source": [
    "`Módulo 2.`  **Introducción a MLOps y Diseño de Sistemas de Machine Learning**\n",
    "\n",
    "   1. Fundamentos de MLOps:\n",
    "        - ¿Por qué hacer MLOps? Beneficios y desafíos.\n",
    "        - Niveles de madurez de MLOps.\n",
    "        - Introducción al diseño de sistemas de Machine Learning para producción.\n",
    "\n",
    "   2. Diseño de Sistemas de Machine Learning:\n",
    "        - Principios de diseño para aplicaciones escalables de ML.\n",
    "        - Diferencias entre despliegue batch y online."
   ]
  },
  {
   "cell_type": "markdown",
   "metadata": {
    "pycharm": {
     "name": "#%% md\n"
    }
   },
   "source": [
    "`Módulo 3.`  **Desplegando, Monitoreando y Gestionando Modelos de Machine Learning Escalabless**\n",
    "\n",
    "   1. Introducción al despliegue de modelos como servicio (Model as a Service).\n",
    "        - Uso de Docker y APIs para la creación de servicios web.\n",
    "        - Despliegue de modelos escalables utilizando AWS.\n",
    "     \n",
    "   2. Tracking, Registro y Monitoreo de Modelos:\n",
    "        - Introducción a MLflow para tracking de experimentos y Model Registry.\n",
    "        - Monitoreo de modelos en producción.\n",
    "        - Orquestación de flujos de trabajo con Mage.\n",
    "        - Buenas prácticas para asegurar la calidad y escalabilidad de los modelos en producción.\n"
   ]
  },
  {
   "cell_type": "markdown",
   "metadata": {
    "pycharm": {
     "name": "#%% md\n"
    }
   },
   "source": [
    "## `Evaluación`\n",
    "\n",
    "- **1 Proyecto (trabajo en equipo) 30%**\n",
    "  - La evaluación del proyecto se divide en dos partes\n",
    "   - Reporte     15%\n",
    "   - Exposición  15%\n",
    " - <font color=\"red\">Equipos de 2, máximo 3 integrantes. **Esto no se negocia**</font>.\n",
    "\n",
    "- **Exámen final 30%**\n",
    "- **Quices 20%**\n",
    "- **Tareas y actividades de clase 20%**\n",
    "\n",
    "## `Calificación final`\n",
    "Toda calificación que tengan valores menores o iguales a 5 en la posición de las unidades se redondeará al número entero inferior más cercano (por ejemplo 85.9 sería 80) y cuando sean mayor que (estricto) 5 en la posición de unidades se redondeará al número entero mayor más cercano (por ejemplo 86.0 sería 90). Dicho procedimiento de redondeo NO aplica cuando la calificación es menor a 60, es decir 59.9 será 50.\n",
    "\n",
    "## `Tiempos de entrega de trabajos y tareas` \n",
    "Todas las tareas, trabajos y exámenes tendrán una fecha de entrega correspondiente, la cuál será definida durante la clase; y la entrega SIEMPRE será a través de la plataforma CANVAS.  Cualquier entrega fuera de los horarios establecidos quedará a consideración del profesor si se califica con una respectiva penalización:  \n",
    "- Con una (1) hora o menos de retraso en la entrega, se calificará sobre una nota de 8, \n",
    "- Con dos (2) horas o menos (pero más de 1 hora) de retraso en la entrega, se calificará sobre una nota de 7. \n",
    "- Si la entrega tiene 2 horas o más de retraso se revisará la entrega, se devolverá con las respectivas correcciones pero NO se calificará la entrega.\n"
   ]
  },
  {
   "cell_type": "markdown",
   "metadata": {
    "pycharm": {
     "name": "#%% md\n"
    }
   },
   "source": [
    "### `Bibliografía `"
   ]
  },
  {
   "cell_type": "markdown",
   "metadata": {
    "pycharm": {
     "name": "#%% md\n"
    }
   },
   "source": [
    "- Designing Machine Learning Systems by Chip Huyen\n",
    "- Hands-on Machine Learning with Scikit-Learn, Keras & TensorFlow by Aurélien Géron\n",
    "- Fluent Python by Ramalho, Luciano\n",
    "- Python for Scientists by Stewart, John M.\n",
    "- Practical MLOps by Noah Gift\n",
    "Estos y muchos mas libros los pueden encontrar en la Biblioteca."
   ]
  }
 ],
 "metadata": {
  "anaconda-cloud": {},
  "kernelspec": {
   "display_name": "Python 3 (ipykernel)",
   "language": "python",
   "name": "python3"
  },
  "language_info": {
   "codemirror_mode": {
    "name": "ipython",
    "version": 3
   },
   "file_extension": ".py",
   "mimetype": "text/x-python",
   "name": "python",
   "nbconvert_exporter": "python",
   "pygments_lexer": "ipython3",
   "version": "3.9.13"
  }
 },
 "nbformat": 4,
 "nbformat_minor": 4
}
