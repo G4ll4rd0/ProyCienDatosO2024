{
 "cells": [
  {
   "metadata": {},
   "cell_type": "markdown",
   "source": [
    "# Introducción a MLOps\n",
    " \n",
    "## 1. ¿Qué es Machine Learning Operations (MLOps)?\n",
    "\n",
    "https://www.databricks.com/glossary/mlops\n",
    "\n",
    "MLOps significa Operaciones de Machine Learning. MLOps es una función central de la ingeniería de Machine Learning, que se enfoca en optimizar el proceso de llevar modelos de aprendizaje automático a producción, y luego en mantenerlos y monitorearlos. MLOps es una función colaborativa, que a menudo incluye a científicos de datos, ingenieros de DevOps y personal de IT.\n",
    "\n",
    "- **MLOps**: Operaciones de Machine Learning.\n",
    "- Integra ingeniería de ML, DevOps y TI.\n",
    "- Objetivo: llevar modelos de machine learning a producción y mantenerlos.\n",
    "\n",
    "<img style=\"display: block; margin: auto;\" src=\"./images/mlops-cycle.png\" title=\"git\" width=\"380\" height=\"50\">"
   ],
   "id": "ea845ff5e0127892"
  },
  {
   "metadata": {},
   "cell_type": "markdown",
   "source": [
    "## 2. ¿Cuál es el uso de MLOps?\n",
    "\n",
    "- Acelera la **colaboración** entre científicos de datos e ingenieros de ML.\n",
    "- Implementa **CI/CD** (Integración y Despliegue Continuos).\n",
    "- Facilita **monitorización**, **validación** y **gobernanza** de modelos.\n",
    "\n",
    "MLOps es un enfoque útil para la creación y calidad de soluciones de aprendizaje automático e inteligencia artificial. Al adoptar un enfoque de MLOps, los científicos de datos e ingenieros de machine learning pueden colaborar y acelerar el desarrollo y la producción de modelos, implementando prácticas de integración y despliegue continuos (CI/CD), junto con el monitoreo, validación y gobernanza adecuados de los modelos de ML.\n"
   ],
   "id": "c9997f84e447f5b5"
  },
  {
   "metadata": {},
   "cell_type": "markdown",
   "source": [
    "## 3. ¿Por qué necesitamos MLOps?\n",
    "\n",
    "- El ciclo de vida de ML es **complejo** (ingesta de datos, entrenamiento, despliegue, monitoreo).\n",
    "- **Colaboración** entre equipos (Ingeniería de Datos, Ciencia de Datos, DevOps).\n",
    "- Asegura **rigor operacional** y **sincronización** de procesos.\n",
    "\n",
    "https://cloud.google.com/architecture/mlops-continuous-delivery-and-automation-pipelines-in-machine-learning\n",
    "\n",
    "<img style=\"display: block; margin: auto;\" src=\"./images/mlops-elements.png\" title=\"git\" width=\"380\" height=\"50\">\n",
    "\n",
    "La producción de modelos de machine learning es difícil. El ciclo de vida del aprendizaje automático incluye muchos componentes complejos, como la ingesta de datos, la preparación de datos, el entrenamiento de modelos, el ajuste de modelos, el despliegue de modelos, el monitoreo de modelos, la explicabilidad, entre otros. Además, requiere colaboración y traspasos entre equipos, desde Ingeniería de Datos hasta Ciencia de Datos e Ingeniería de Machine Learning. Naturalmente, esto exige un rigor operacional estricto para mantener todos estos procesos sincronizados y funcionando en conjunto. MLOps abarca la experimentación, iteración y mejora continua del ciclo de vida del aprendizaje automático."
   ],
   "id": "530216b526b77dea"
  },
  {
   "metadata": {},
   "cell_type": "markdown",
   "source": [
    "## 4. ¿Cuáles son los beneficios de MLOps?\n",
    "\n",
    "Los principales beneficios de MLOps son la eficiencia, escalabilidad y reducción de riesgos.\n",
    "\n",
    "+ **Eficiencia:** MLOps permite a los equipos de datos desarrollar modelos más rápido, entregar modelos de machine learning de mayor calidad y desplegarlos en producción con mayor rapidez.\n",
    "+ **Escalabilidad:** MLOps facilita la gestión y escalabilidad masiva, permitiendo supervisar, controlar, gestionar y monitorear miles de modelos con integración continua, entrega continua y despliegue continuo. Además, proporciona la reproducibilidad de los pipelines de machine learning, mejorando la colaboración entre equipos de datos, reduciendo conflictos con DevOps y TI, y acelerando la velocidad de lanzamiento.\n",
    "+ **Reducción de riesgos:** Los modelos de machine learning a menudo requieren controles regulatorios y verificación de desviaciones, y MLOps permite una mayor transparencia y una respuesta más rápida a estas solicitudes, asegurando un mayor cumplimiento de las políticas de una organización o industria."
   ],
   "id": "a1d330169c1ebec5"
  },
  {
   "metadata": {},
   "cell_type": "markdown",
   "source": [
    "## 5. ¿Cuáles son los componentes de MLOps?\n",
    "\n",
    "<img style=\"display: block; margin: auto;\" src=\"./images/mlops-components.png\" title=\"git\" width=\"380\" height=\"50\">\n",
    "\n",
    "El alcance de MLOps en los proyectos de machine learning puede ser tan enfocado o expansivo como lo requiera el proyecto. En algunos casos, MLOps puede abarcar desde el pipeline de datos hasta la producción del modelo, mientras que en otros proyectos solo se requiere la implementación de MLOps para el proceso de despliegue del modelo. La mayoría de las empresas implementan los principios de MLOps en los siguientes aspectos:\n",
    "\n",
    "+ Análisis exploratorio de datos (EDA)\n",
    "+ Preparación de datos e ingeniería de características\n",
    "+ Entrenamiento y ajuste de modelos\n",
    "+ Revisión y gobernanza de modelos\n",
    "+ Inferencia y servicio de modelos\n",
    "+ Monitoreo de modelos\n",
    "+ Re-entrenamiento automático de modelos"
   ],
   "id": "6152e97c5478abd8"
  },
  {
   "metadata": {},
   "cell_type": "markdown",
   "source": [
    "## 6. ¿Cuáles son las mejores prácticas para MLOps?\n",
    "\n",
    "Las mejores prácticas para MLOps se pueden dividir según la etapa en la que se aplican los principios de MLOps. A continuación, se detalla cada fase con sus prácticas recomendadas:\n",
    "\n",
    "### 1. Análisis Exploratorio de Datos (EDA)\n",
    "- Explorar, compartir y preparar datos de manera iterativa.\n",
    "- Crear conjuntos de datos, tablas y visualizaciones reproducibles, editables y compartible.\n",
    "\n",
    "### 2. Preparación de Datos e Ingeniería de Características\n",
    "- Transformar, agregar y eliminar duplicados de los datos de manera iterativa.\n",
    "- Crear características refinadas que sean visibles y compartibles entre equipos.\n",
    "- Utilizar un *feature store* para gestionar y almacenar las características generadas.\n",
    "\n",
    "### 3. Entrenamiento y Ajuste de Modelos\n",
    "- Utilizar bibliotecas de código abierto como `scikit-learn` y `hyperopt` para entrenar y mejorar el rendimiento del modelo.\n",
    "- Considerar el uso de herramientas de *AutoML* para realizar pruebas automáticas y generar código revisable y desplegable.\n",
    "  \n",
    "### 4. Revisión y Gobernanza de Modelos\n",
    "- Rastrear el linaje del modelo, versiones y gestionar los artefactos del modelo a lo largo de su ciclo de vida.\n",
    "- Utilizar plataformas de MLOps de código abierto, como `MLflow`, para facilitar la colaboración, descubrimiento y gestión de modelos.\n",
    "\n",
    "### 5. Inferencia y Servicio de Modelos\n",
    "- Gestionar la frecuencia de actualización del modelo y los tiempos de las solicitudes de inferencia en entornos de prueba y QA.\n",
    "- Utilizar herramientas de CI/CD, como repositorios y orquestadores, para automatizar el pipeline de preproducción.\n",
    "\n",
    "### 6. Despliegue y Monitoreo de Modelos\n",
    "- Automatizar la gestión de permisos y la creación de clústeres para llevar los modelos a producción.\n",
    "- Habilitar puntos de acceso a los modelos mediante API REST para facilitar el uso en aplicaciones en producción.\n",
    "\n",
    "### 7. Reentrenamiento Automático de Modelos\n",
    "- Crear alertas y automatizar la corrección en caso de *drift* del modelo debido a cambios en los datos de entrenamiento e inferencia.\n",
    "- Implementar pipelines de reentrenamiento para garantizar la actualización continua de los modelos sin intervención manual."
   ],
   "id": "9c98ebd33ebf0179"
  },
  {
   "metadata": {},
   "cell_type": "markdown",
   "source": [
    "## 7. Evolución de MLOps\n",
    "https://ml-ops.org/\n",
    "\n",
    "<img style=\"display: block; margin: auto;\" src=\"./images/mlops-evolution.png\" title=\"git\" width=\"380\" height=\"50\">\n",
    "\n",
    "## 8. Etapas de MLOps\n",
    "<img style=\"display: block; margin: auto;\" src=\"./images/mlops-incremental-process.png\" title=\"git\" width=\"380\" height=\"50\">\n"
   ],
   "id": "a80598fc70ba49fa"
  },
  {
   "metadata": {},
   "cell_type": "markdown",
   "source": [
    "## 9. Caso de uso\n",
    "\n",
    "Predicción de duración de un viaje. "
   ],
   "id": "c70333d4ed68ca0e"
  },
  {
   "metadata": {},
   "cell_type": "code",
   "source": [
    "# Create the directory if it doesn't exist\n",
    "!mkdir -p ./data\n",
    "\n",
    "# Download files using curl\n",
    "!curl -o ./data/green_tripdata_2024-01.parquet https://d37ci6vzurychx.cloudfront.net/trip-data/green_tripdata_2024-01.parquet\n",
    "!curl -o ./data/green_tripdata_2024-02.parquet https://d37ci6vzurychx.cloudfront.net/trip-data/green_tripdata_2024-02.parquet"
   ],
   "id": "a18bded15f7ba7b0",
   "outputs": [],
   "execution_count": null
  },
  {
   "metadata": {},
   "cell_type": "code",
   "source": [
    "# Install libraries\n",
    "!pip install pandas==2.2.2 scikit-learn==1.5.1 seaborn==0.13.2 matplotlib==3.9.0 mlflow==2.15.1 hyperopt==0.2.7 xgboost==2.1.1 fastparquet==2024.5.0 boto3==1.34.158 pyarrow==17.0.0"
   ],
   "id": "d67d7dde48b8b39e",
   "outputs": [],
   "execution_count": null
  },
  {
   "metadata": {},
   "cell_type": "code",
   "source": [
    "import pickle\n",
    "import pandas as pd\n",
    "import seaborn as sns\n",
    "import matplotlib.pyplot as plt\n",
    "from sklearn.linear_model import Lasso, Ridge\n",
    "from sklearn.linear_model import LinearRegression\n",
    "from sklearn.metrics import root_mean_squared_error\n",
    "from sklearn.feature_extraction import DictVectorizer"
   ],
   "id": "998beb5e6c9efaf6",
   "outputs": [],
   "execution_count": null
  },
  {
   "metadata": {},
   "cell_type": "code",
   "source": [
    "df = pd.read_parquet('./data/green_tripdata_2024-01.parquet')\n",
    "\n",
    "df['duration'] = df.lpep_dropoff_datetime - df.lpep_pickup_datetime\n",
    "df.duration = df.duration.apply(lambda td: td.total_seconds() / 60)\n",
    "\n",
    "df = df[(df.duration >= 1) & (df.duration <= 60)]"
   ],
   "id": "83f937c770d47809",
   "outputs": [],
   "execution_count": null
  },
  {
   "metadata": {},
   "cell_type": "code",
   "source": [
    "categorical = ['PULocationID', 'DOLocationID']\n",
    "numerical = ['trip_distance']\n",
    "\n",
    "df[categorical] = df[categorical].astype(str)\n",
    "train_dicts = df[categorical + numerical].to_dict(orient='records')\n",
    "\n",
    "train_dicts"
   ],
   "id": "e442da5051116a8f",
   "outputs": [],
   "execution_count": null
  },
  {
   "metadata": {},
   "cell_type": "code",
   "source": [
    "dv = DictVectorizer()\n",
    "X_train = dv.fit_transform(train_dicts)\n",
    "\n",
    "target = 'duration'\n",
    "y_train = df[target].values\n",
    "\n",
    "lr = LinearRegression()\n",
    "lr.fit(X_train, y_train)\n",
    "\n",
    "y_pred = lr.predict(X_train)"
   ],
   "id": "c0b609e4ba49f056",
   "outputs": [],
   "execution_count": null
  },
  {
   "metadata": {},
   "cell_type": "code",
   "source": "root_mean_squared_error(y_train, y_pred)",
   "id": "5dfd34207f6a66d0",
   "outputs": [],
   "execution_count": null
  },
  {
   "metadata": {},
   "cell_type": "code",
   "source": [
    "sns.distplot(y_pred, label='prediction')\n",
    "sns.distplot(y_train, label='actual')\n",
    "\n",
    "plt.legend()"
   ],
   "id": "c492fa2e246481ac",
   "outputs": [],
   "execution_count": null
  },
  {
   "metadata": {},
   "cell_type": "code",
   "source": [
    "def read_dataframe(filename):\n",
    "\n",
    "    df = pd.read_parquet(filename)\n",
    "\n",
    "    df['duration'] = df.lpep_dropoff_datetime - df.lpep_pickup_datetime\n",
    "    df.duration = df.duration.apply(lambda td: td.total_seconds() / 60)\n",
    "\n",
    "    df = df[(df.duration >= 1) & (df.duration <= 60)]\n",
    "\n",
    "    categorical = ['PULocationID', 'DOLocationID']\n",
    "    df[categorical] = df[categorical].astype(str)\n",
    "\n",
    "    return df"
   ],
   "id": "b3152a7e3a720e91",
   "outputs": [],
   "execution_count": null
  },
  {
   "metadata": {},
   "cell_type": "code",
   "source": [
    "df_train = read_dataframe('./data/green_tripdata_2024-01.parquet')\n",
    "df_val = read_dataframe('./data/green_tripdata_2024-02.parquet')\n",
    "len(df_train), len(df_val)"
   ],
   "id": "130ccd46ebacfa53",
   "outputs": [],
   "execution_count": null
  },
  {
   "metadata": {},
   "cell_type": "code",
   "source": [
    "df_train['PU_DO'] = df_train['PULocationID'] + '_' + df_train['DOLocationID']\n",
    "df_val['PU_DO'] = df_val['PULocationID'] + '_' + df_val['DOLocationID']\n",
    "\n",
    "categorical = ['PU_DO']  #'PULocationID', 'DOLocationID']\n",
    "numerical = ['trip_distance']"
   ],
   "id": "a02bc9916b9ba650",
   "outputs": [],
   "execution_count": null
  },
  {
   "metadata": {},
   "cell_type": "code",
   "source": [
    "dv = DictVectorizer()\n",
    "\n",
    "train_dicts = df_train[categorical + numerical].to_dict(orient='records')\n",
    "X_train = dv.fit_transform(train_dicts)\n",
    "\n",
    "val_dicts = df_val[categorical + numerical].to_dict(orient='records')\n",
    "X_val = dv.transform(val_dicts)"
   ],
   "id": "6cae20aafac01be3",
   "outputs": [],
   "execution_count": null
  },
  {
   "metadata": {},
   "cell_type": "code",
   "source": [
    "target = 'duration'\n",
    "\n",
    "y_train = df_train[target].values\n",
    "y_val = df_val[target].values\n",
    "\n",
    "lr = LinearRegression()\n",
    "lr.fit(X_train, y_train)\n",
    "\n",
    "y_pred = lr.predict(X_val)\n",
    "\n",
    "root_mean_squared_error(y_val, y_pred)"
   ],
   "id": "bd73edc62530749a",
   "outputs": [],
   "execution_count": null
  },
  {
   "metadata": {},
   "cell_type": "code",
   "source": [
    "with open('models/lin_reg.bin', 'wb') as f_out:\n",
    "    pickle.dump((dv, lr), f_out)\n"
   ],
   "id": "36eedc4e44ce60c",
   "outputs": [],
   "execution_count": null
  },
  {
   "metadata": {},
   "cell_type": "code",
   "source": [
    "lr = Lasso(0.1)\n",
    "lr.fit(X_train, y_train)\n",
    "\n",
    "y_pred = lr.predict(X_val)\n",
    "\n",
    "root_mean_squared_error(y_val, y_pred)"
   ],
   "id": "d593c86fa8990c33",
   "outputs": [],
   "execution_count": null
  },
  {
   "metadata": {},
   "cell_type": "code",
   "source": [
    "lr = Lasso(0.01)\n",
    "lr.fit(X_train, y_train)\n",
    "\n",
    "y_pred = lr.predict(X_val)\n",
    "\n",
    "root_mean_squared_error(y_val, y_pred)"
   ],
   "id": "262a36447a76e881",
   "outputs": [],
   "execution_count": null
  },
  {
   "metadata": {},
   "cell_type": "code",
   "source": [
    "lr = Lasso(0.001)\n",
    "lr.fit(X_train, y_train)\n",
    "\n",
    "y_pred = lr.predict(X_val)\n",
    "\n",
    "root_mean_squared_error(y_val, y_pred)"
   ],
   "id": "d2a5490336ba9539",
   "outputs": [],
   "execution_count": null
  },
  {
   "metadata": {},
   "cell_type": "code",
   "source": [
    "lr = Ridge(0.1)\n",
    "lr.fit(X_train, y_train)\n",
    "\n",
    "y_pred = lr.predict(X_val)\n",
    "\n",
    "root_mean_squared_error(y_val, y_pred)"
   ],
   "id": "b6bb09c276533b48",
   "outputs": [],
   "execution_count": null
  },
  {
   "metadata": {},
   "cell_type": "code",
   "source": [
    "lr = Ridge(0.01)\n",
    "lr.fit(X_train, y_train)\n",
    "\n",
    "y_pred = lr.predict(X_val)\n",
    "\n",
    "root_mean_squared_error(y_val, y_pred)"
   ],
   "id": "be99e3eab67456e6",
   "outputs": [],
   "execution_count": null
  },
  {
   "metadata": {},
   "cell_type": "code",
   "source": [
    "lr = Ridge(0.001)\n",
    "lr.fit(X_train, y_train)\n",
    "\n",
    "y_pred = lr.predict(X_val)\n",
    "\n",
    "root_mean_squared_error(y_val, y_pred)"
   ],
   "id": "81136c76cba43e4f",
   "outputs": [],
   "execution_count": null
  },
  {
   "metadata": {},
   "cell_type": "markdown",
   "source": [
    "### Análisis del código - Limitaciones para llevarlo a producción.\n",
    "1. Experiment Tracking - Logging\n",
    "2. Model registry - Performance\n",
    "3. Run the code with different dataset - Parameterising ML Pipelines\n",
    "    + Load & Prepare Data\n",
    "    + Vectorize\n",
    "    + Train\n",
    "    + Parameters: Train, val data, model, etc\n",
    "4. Model service\n",
    "5. Model monitoring - Performance alert\n",
    "\n",
    "<img style=\"display: block; margin: auto;\" src=\"./images/mlops-model-decay-monitoring.png\" title=\"git\" width=\"380\" height=\"50\">"
   ],
   "id": "b89d43dd21df6a0c"
  },
  {
   "metadata": {},
   "cell_type": "markdown",
   "source": [
    "## Niveles de Madurez en MLOps\n",
    "\n",
    "https://medium.com/@NickHystax/mlops-maturity-levels-the-most-well-known-models-5b1de94ea285\n",
    "\n",
    "https://learn.microsoft.com/en-us/azure/architecture/ai-ml/guide/mlops-maturity-model\n",
    "\n",
    "- El propósito de este modelo de madurez es ayudar a aclarar los principios y prácticas de Operaciones de Machine Learning (MLOps). \n",
    "- El modelo de madurez muestra la mejora continua en la creación y operación de un entorno de aplicación de machine learning a nivel de producción. \n",
    "- Puedes utilizarlo como una métrica para establecer los requisitos progresivos necesarios para medir la madurez de un entorno de producción de machine learning y sus procesos asociados.\n",
    "\n",
    "El modelo de madurez de MLOps ayuda a aclarar los principios y prácticas de Operaciones de Desarrollo (DevOps) necesarios para ejecutar un entorno exitoso de MLOps. Está destinado a identificar brechas en el intento existente de una organización para implementar dicho entorno. También es una manera de mostrarte cómo desarrollar tu capacidad de MLOps en incrementos, en lugar de abrumarte con los requisitos de un entorno completamente maduro. Utilízalo como guía para:\n",
    "\n",
    "- Estimar el alcance del trabajo para nuevos compromisos.\n",
    "- Establecer criterios de éxito realistas.\n",
    "- Identificar entregables que entregarás al finalizar el compromiso.\n",
    "\n",
    "Como ocurre con la mayoría de los modelos de madurez, el modelo de madurez de MLOps evalúa cualitativamente las personas/cultura, los procesos/estructuras y los objetos/tecnología. A medida que aumenta el nivel de madurez, aumenta la probabilidad de que los incidentes o errores conduzcan a mejoras en la calidad de los procesos de desarrollo y producción."
   ],
   "id": "d372b5d60830e2a4"
  },
  {
   "metadata": {},
   "cell_type": "markdown",
   "source": [
    "El modelo de madurez de MLOps abarca cinco niveles de capacidad técnica:\n",
    "\n",
    "### Level 0: No MLOps\n",
    "- **Descripción**:\n",
    "    - Difícil de gestionar el ciclo de vida completo del modelo de machine learning\n",
    "    - Los equipos son dispares y las versiones son problemáticas\n",
    "    - La mayoría de los sistemas existen como \"cajas negras\", con poco feedback durante/después del despliegue\n",
    "\n",
    "- **Aspectos Destacados**:\n",
    "    - Construcciones y despliegues manuales\n",
    "    - Pruebas manuales del modelo y la aplicación\n",
    "    - Sin seguimiento centralizado del rendimiento del modelo\n",
    "    - Entrenamiento del modelo es manual\n",
    "    - Adecuado para Pruebas de Conceptos (PoC)"
   ],
   "id": "db3d6f4739024727"
  },
  {
   "metadata": {},
   "cell_type": "markdown",
   "source": [
    "### Nivel 1: DevOps pero sin MLOps\n",
    "- **Descripción**:\n",
    "    - Los despliegues son menos dolorosos que en Sin MLOps, pero dependen del equipo de datos para cada nuevo modelo\n",
    "    - Aún hay feedback limitado sobre cómo se comporta el modelo en producción\n",
    "    - Difícil de rastrear/reproducir resultados\n",
    "\n",
    "- **Aspectos Destacados**:\n",
    "    - Construcciones automatizadas\n",
    "    - Pruebas automatizadas para el código de la aplicación\n",
    "    - Despliegues automatizados (a nivel de software engineering)\n",
    "    - Unit & integration test\n",
    "    - CI/CD\n",
    "    - Métricas de Ops.\n",
    "    - No hay tracking de experimentos\n",
    "    - No hay reproducibilidad del modelo\n",
    "    - Data Scientist aislado de los Software Engineering\n",
    "    - Adecuado para pasar de PoC a Producción"
   ],
   "id": "80ab8346eb147c08"
  },
  {
   "metadata": {},
   "cell_type": "markdown",
   "source": [
    "### Nivel 2: Entrenamiento Automatizado\n",
    "- **Descripción**:\n",
    "    - El entorno de entrenamiento está completamente gestionado y es rastreable\n",
    "    - Fácil de reproducir el modelo\n",
    "    - Los despliegues son manuales, pero con poca fricción\n",
    "\n",
    "- **Aspectos Destacados**:\n",
    "    - Entrenamiento automatizado del modelo\n",
    "    - Seguimiento centralizado del rendimiento del entrenamiento del modelo\n",
    "    - Gestión del modelo\n",
    "    - Pipeline de Entrenamiento\n",
    "    - Tracking de  Experimento\n",
    "    - Model Registry\n",
    "    - Low Friction Deployment\n",
    "    - Data Scientist trabajan en conjunto con los Software Engineering.\n"
   ],
   "id": "4e68da5b981ed2a3"
  },
  {
   "metadata": {},
   "cell_type": "markdown",
   "source": [
    "### Nivel 3: Despliegue Automático del Modelo\n",
    "- **Descripción**:\n",
    "    - Los despliegues tienen poca fricción y son automáticos\n",
    "    - Rastreabilidad completa desde el despliegue hasta los datos originales\n",
    "    - Todo el entorno gestionado: entrenamiento > prueba > producción\n",
    "- **Aspectos Destacados**:\n",
    "    - Pruebas A/B integradas del rendimiento del modelo para el despliegue\n",
    "    - Pruebas automatizadas para todo el código\n",
    "    - Seguimiento centralizado del rendimiento del entrenamiento del modelo"
   ],
   "id": "71537ec13bf2e2dc"
  },
  {
   "metadata": {},
   "cell_type": "markdown",
   "source": [
    "### Nivel 4: MLOps Completo con Operaciones Automatizadas\n",
    "- **Descripción**:\n",
    "    - Sistema completo automatizado y fácilmente monitoreado\n",
    "    - Los sistemas de producción proporcionan información sobre cómo mejorar y, en algunos casos, mejorar automáticamente con nuevos modelos\n",
    "    - Aproximándose a un sistema con cero tiempos de inactividad\n",
    "\n",
    "- **Aspectos Destacados**:\n",
    "    - Entrenamiento y pruebas automatizadas del modelo\n",
    "    - Métricas detalladas y centralizadas del modelo desplegado"
   ],
   "id": "9abc485b4573169b"
  },
  {
   "metadata": {},
   "cell_type": "markdown",
   "source": "",
   "id": "c612bd9e1d19f90f"
  }
 ],
 "metadata": {
  "kernelspec": {
   "display_name": "Python 3",
   "language": "python",
   "name": "python3"
  },
  "language_info": {
   "codemirror_mode": {
    "name": "ipython",
    "version": 2
   },
   "file_extension": ".py",
   "mimetype": "text/x-python",
   "name": "python",
   "nbconvert_exporter": "python",
   "pygments_lexer": "ipython2",
   "version": "2.7.6"
  }
 },
 "nbformat": 4,
 "nbformat_minor": 5
}
