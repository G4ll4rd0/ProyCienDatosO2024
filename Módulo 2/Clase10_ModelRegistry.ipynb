{
 "cells": [
  {
   "metadata": {},
   "cell_type": "markdown",
   "source": [
    "# Model Registry\n",
    "https://neptune.ai/blog/ml-experiment-tracking\n",
    "\n",
    " <img style=\"display: block; margin: auto;\" src=\"./images/mlops-experiment-tracking-excalidraw.png\" width=\"1280\" height=\"50\">\n",
    " \n",
    "## 1. Motivación\n",
    " <img style=\"display: block; margin: auto;\" src=\"./images/fake-email.png\" width=\"380\" height=\"150\">\n",
    " \n",
    "Preguntas que salen a flote con este enfoque:\n",
    "* ¿Qué ha cambia esta versión del modelo respecto a la anterior?\n",
    "* ¿Debería actualizar los hiper-parámetros?\n",
    "* ¿Se necesita algún pre-procesamiento?\n",
    "* ¿Cuál es el ambiente para poder ejecutarlo? ¿Dependencias? ¿Librerías?\n",
    "* Si hay un problema en producción, y tengo que volver a la versión anterior, debo buscar el correo.\n",
    "\n",
    " <img style=\"display: block; margin: auto;\" src=\"./images/mlflow-tracking-server-model-registry.png\" width=\"680\" height=\"650\">\n",
    " \n",
    "En la clase pasada, hicimos varios experimentos en donde guardamos toda la información respecto a cada uno\n",
    "+ Modelo\n",
    "+ Artefactos\n",
    "+ Metadata de la ejecución\n",
    "+ Parámetros\n",
    "+ Etc\n",
    "\n",
    "Para eso, se hizo uso de un `Tracking server` corriendo en local.\n",
    "\n",
    "Después de revisar dichos experimentos, se decide que alguno(s) de esos modelos esta(n) listo(s) para un ambiente productivo.\n",
    "\n",
    "Para ello, se debe registrar dichos modelos en el `Model Registry`.\n",
    "\n",
    "En ese caso, el ingeniero encargado del deployment podrá revisar cuáles modelos están listos para producción, y así se mejora la comunicación entre la persona encargada de construir el modelo y la persona encargada de deployar el modelo.\n",
    "\n",
    "El `Model Registry` no realizar el proceso de deployar los modelos, es solamente una herramienta para llevar control de cuáles modelos/versiones están listas para producción.\n",
    "\n"
   ],
   "id": "6930ffc866c4a21f"
  },
  {
   "metadata": {},
   "cell_type": "markdown",
   "source": [
    "## 2. Definiciones/Conceptos\n",
    "\n",
    "https://mlflow.org/docs/latest/model-registry.html#concepts\n",
    " \n",
    "### Modelo\n",
    "\n",
    "Un modelo de `MLflow` se crea a partir de un experimento o ejecución que se loguea utilizando uno de los métodos `mlflow.<framework>.log_model()` de los flavors de modelo. Una vez logueado, este modelo puede ser registrado en el `Model Registry`.\n",
    "\n",
    "### Modelo Registrado\n",
    "\n",
    "Un modelo de `MLflow` puede ser registrado en el `Model Registry`. Un modelo registrado tiene un nombre único, contiene versiones, alias, etiquetas y otros metadatos.\n",
    "\n",
    "### Versión del Modelo\n",
    "\n",
    "Cada modelo registrado puede tener una o varias versiones. Cuando se agrega un nuevo modelo al `Model Registry`, se añade como la `versión 1`. Cada nuevo modelo registrado con el mismo nombre de modelo incrementa el número de versión.\n",
    "\n",
    "### Alias de Modelo\n",
    "\n",
    "Los alias de modelo te permiten asignar una referencia nombrada y mutable a una versión específica de un modelo registrado. Al asignar un alias a una versión específica del modelo, puedes utilizar ese alias para referenciar dicha versión a través de una URI de modelo o de la API del `Model Registry`. \n",
    "\n",
    "Por ejemplo, puedes crear un alias llamado `champion` que apunte a la `versión 1` de un modelo llamado `MyModel`. Luego, puedes referenciar la versión 1 de `MyModel` utilizando la URI `models:/MyModel@champion`.\n",
    "\n",
    "Los alias son especialmente útiles para la implementación de modelos. Por ejemplo, podrías asignar un alias `champion` a la versión del modelo destinada al tráfico de producción y apuntar a este alias en las cargas de trabajo de producción. Luego, puedes actualizar el modelo que sirve al tráfico de producción reasignando el alias `champion` a una versión diferente del modelo.\n",
    "\n",
    "### Etiquetas (Tags)\n",
    "\n",
    "Las etiquetas son pares clave-valor que asocias con modelos registrados y versiones de modelos, lo que te permite etiquetarlos y categorizarlos por función o estado. \n",
    "\n",
    "Por ejemplo, podrías aplicar una etiqueta con la clave `task` y el valor `question-answering` (mostrado en la interfaz como `task:question-answering`) a modelos registrados destinados a tareas de preguntas y respuestas. \n",
    "\n",
    "A nivel de versión de modelo, podrías etiquetar versiones que están en proceso de validación previa a la implementación con `validation_status:pending` y aquellas aprobadas para su implementación con `validation_status:approved`.\n"
   ],
   "id": "a242222989353cd"
  },
  {
   "metadata": {},
   "cell_type": "markdown",
   "source": [
    "## 3. Model Registry - Hands-On\n",
    "\n",
    "Si estás ejecutando tu propio servidor de `MLflow`, debes utilizar un backend store con base de datos para acceder al Model Registry a través de la interfaz de usuario (UI) o la API.\n",
    "\n",
    "Antes de que puedas añadir un modelo al `Model Registry`, debes registrarlo utilizando los métodos `log_model`. \n",
    "\n",
    "Una vez que un modelo ha sido registrado, puedes agregar, modificar, actualizar o eliminar el modelo en el Model Registry a través de \n",
    "\n",
    "1. La interfaz Gráfica de `MLflow`\n",
    "    * https://mlflow.org/docs/latest/model-registry.html#ui-workflow\n",
    "      \n",
    "2. La API de `MLflow` usando código\n",
    "    * https://mlflow.org/docs/latest/model-registry.html#ui-workflow \n",
    "\n",
    "Antes de ver cómo funciona cada uno, vamos a correr más experimentos:"
   ],
   "id": "7912e263ef381493"
  },
  {
   "metadata": {},
   "cell_type": "markdown",
   "source": [
    "### 3.1. Continuación del ejemplos `nyc-taxi`\n",
    "\n",
    "#### Setup\n",
    "\n",
    "Vamos a retomar el ejemplo de la clase pasada, pero primero vamos a asegurarnos de tener las librerías necesarias instaladas."
   ],
   "id": "7701645f55789234"
  },
  {
   "metadata": {},
   "cell_type": "markdown",
   "source": [
    "```bash\n",
    "pip install mlflow scikit-learn pandas seaborn hyperopt xgboost fastparquet boto3 pyarrow\n",
    "```\n",
    "\n",
    "Ahora vamos a ejecutar el `tracking server` con el siguiente comando y explorar un poco lo que vamos a encontrar\n",
    "```bash\n",
    "cd Módulo\\ 2/ \n",
    "mlflow ui --backend-store-uri sqlite:///mlflow.db\n",
    "```\n",
    "   "
   ],
   "id": "d20c5d219bc06adc"
  },
  {
   "metadata": {},
   "cell_type": "markdown",
   "source": "Creamos una carpeta `data` para descargar los datos necesarios.",
   "id": "829bc34a38373719"
  },
  {
   "metadata": {},
   "cell_type": "code",
   "source": [
    "# Create the directory if it doesn't exist\n",
    "!mkdir -p ./data\n",
    "\n",
    "# Download files using curl\n",
    "!curl -o ./data/green_tripdata_2024-01.parquet https://d37ci6vzurychx.cloudfront.net/trip-data/green_tripdata_2024-01.parquet\n",
    "!curl -o ./data/green_tripdata_2024-02.parquet https://d37ci6vzurychx.cloudfront.net/trip-data/green_tripdata_2024-02.parquet"
   ],
   "id": "a8440e122de817df",
   "outputs": [],
   "execution_count": null
  },
  {
   "metadata": {},
   "cell_type": "markdown",
   "source": "Importar las librerías necesarias y definir función para importar los datos",
   "id": "4f6debcdce71df13"
  },
  {
   "metadata": {},
   "cell_type": "code",
   "source": [
    "import pickle\n",
    "import pandas as pd\n",
    "from sklearn.metrics import  root_mean_squared_error\n",
    "from sklearn.feature_extraction import  DictVectorizer"
   ],
   "id": "77ebcbb4d2c1a336",
   "outputs": [],
   "execution_count": null
  },
  {
   "metadata": {},
   "cell_type": "code",
   "source": [
    "def read_dataframe(filename):\n",
    "\n",
    "    df = pd.read_parquet(filename)\n",
    "\n",
    "    df['duration'] = df.lpep_dropoff_datetime - df.lpep_pickup_datetime\n",
    "    df.duration = df.duration.apply(lambda td: td.total_seconds() / 60)\n",
    "\n",
    "    df = df[(df.duration >= 1) & (df.duration <= 60)]\n",
    "\n",
    "    categorical = ['PULocationID', 'DOLocationID']\n",
    "    df[categorical] = df[categorical].astype(str)\n",
    "\n",
    "    return df"
   ],
   "id": "9b6ea2cbd3c3ca3d",
   "outputs": [],
   "execution_count": null
  },
  {
   "metadata": {},
   "cell_type": "code",
   "source": [
    "df_train = read_dataframe('./data/green_tripdata_2024-01.parquet')\n",
    "df_val = read_dataframe('./data/green_tripdata_2024-02.parquet')"
   ],
   "id": "dc0f3b329227a85f",
   "outputs": [],
   "execution_count": null
  },
  {
   "metadata": {},
   "cell_type": "markdown",
   "source": "Feature Engineering",
   "id": "7db144f459a4cfa3"
  },
  {
   "metadata": {},
   "cell_type": "code",
   "source": [
    "df_train['PU_DO'] = df_train['PULocationID'] + '_' + df_train['DOLocationID']\n",
    "df_val['PU_DO'] = df_val['PULocationID'] + '_' + df_val['DOLocationID']"
   ],
   "id": "5dd0c615c1bd358d",
   "outputs": [],
   "execution_count": null
  },
  {
   "metadata": {},
   "cell_type": "markdown",
   "source": "One Hot Encoding",
   "id": "c7439b3dc6ca3617"
  },
  {
   "metadata": {},
   "cell_type": "code",
   "source": [
    "categorical = ['PU_DO']  #'PULocationID', 'DOLocationID']\n",
    "numerical = ['trip_distance']\n",
    "dv = DictVectorizer()\n",
    "\n",
    "train_dicts = df_train[categorical + numerical].to_dict(orient='records')\n",
    "X_train = dv.fit_transform(train_dicts)\n",
    "\n",
    "val_dicts = df_val[categorical + numerical].to_dict(orient='records')\n",
    "X_val = dv.transform(val_dicts)"
   ],
   "id": "7370d27fe04133ce",
   "outputs": [],
   "execution_count": null
  },
  {
   "metadata": {},
   "cell_type": "code",
   "source": [
    "target = 'duration'\n",
    "y_train = df_train[target].values\n",
    "y_val = df_val[target].values"
   ],
   "id": "1bb0470a6fc6ade2",
   "outputs": [],
   "execution_count": null
  },
  {
   "metadata": {},
   "cell_type": "markdown",
   "source": "Definir los `dataset` como objetos de `mlflow` para poderlos trackear",
   "id": "ab96339e64c2efb4"
  },
  {
   "metadata": {},
   "cell_type": "code",
   "source": [
    "from sklearn.ensemble import GradientBoostingRegressor, ExtraTreesRegressor\n",
    "from sklearn.svm import LinearSVR"
   ],
   "id": "168750a630c9122d",
   "outputs": [],
   "execution_count": null
  },
  {
   "metadata": {},
   "cell_type": "markdown",
   "source": "Definir el `tracking URI` y el nombre del experimento",
   "id": "bd970bfe99ab6f78"
  },
  {
   "metadata": {},
   "cell_type": "code",
   "source": [
    "import mlflow\n",
    "\n",
    "mlflow.set_tracking_uri(\"sqlite:///mlflow.db\")\n",
    "mlflow.set_experiment(experiment_name=\"class-examples-nyc-taxi-experiment\")"
   ],
   "id": "5efa5e242f744813",
   "outputs": [],
   "execution_count": null
  },
  {
   "metadata": {},
   "cell_type": "code",
   "source": "mlflow.sklearn.autolog()",
   "id": "408e0c51ab01cf70",
   "outputs": [],
   "execution_count": null
  },
  {
   "metadata": {},
   "cell_type": "code",
   "source": [
    "training_dataset = mlflow.data.from_numpy(X_train.data, targets=y_train, name=\"green_tripdata_2024-01\")\n",
    "validation_dataset = mlflow.data.from_numpy(X_val.data, targets=y_val, name=\"green_tripdata_2024-02\")"
   ],
   "id": "bd4f49c32b06c561",
   "outputs": [],
   "execution_count": null
  },
  {
   "metadata": {},
   "cell_type": "markdown",
   "source": [
    "#### Nested Runs\n",
    "\n",
    "Vamos a ver como podemos encadenar ejecuciones, para ello vamos a definir varios modelos a entrenar:"
   ],
   "id": "a6da66bf2f5ac114"
  },
  {
   "metadata": {},
   "cell_type": "code",
   "source": [
    "models = [\n",
    "    \n",
    "    {\"model\": GradientBoostingRegressor,\n",
    "     \"params\": {\"n_estimators\": 100, \"learning_rate\": 0.3, \"max_depth\": 25, \"random_state\": 42},\n",
    "     },\n",
    "    \n",
    "    {\"model\": ExtraTreesRegressor,\n",
    "     \"params\": {\"n_estimators\": 100, \"max_depth\": 15, \"random_state\": 42},\n",
    "     },\n",
    "    \n",
    "    {\"model\": LinearSVR,\n",
    "     \"params\": {\"C\": 1.0, \"epsilon\": 0}, \n",
    "     },\n",
    "\n",
    "]"
   ],
   "id": "f0f8c7db2672aa66",
   "outputs": [],
   "execution_count": null
  },
  {
   "metadata": {},
   "cell_type": "code",
   "source": [
    "with mlflow.start_run(run_name=\"Nested Runs\"):\n",
    "    for model in models:\n",
    "        \n",
    "        model_class = model[\"model\"]\n",
    "        model_name = model_class.__name__\n",
    "        params = model[\"params\"]\n",
    "        \n",
    "        with mlflow.start_run(run_name=model_name,nested=True):\n",
    "            \n",
    "            ml_model = model_class(**params)\n",
    "           \n",
    "            ml_model.fit(X_train, y_train)\n",
    "    \n",
    "            y_pred = ml_model.predict(X_val)\n",
    "            \n",
    "            rmse = root_mean_squared_error(y_val, y_pred)\n",
    "            mlflow.log_metric(\"rmse\", rmse)\n",
    "            \n",
    "            # !mkdir models\n",
    "            with open(\"models/preprocessor.b\", \"wb\") as f_out:\n",
    "                pickle.dump(dv, f_out)\n",
    "                \n",
    "            mlflow.log_artifact(\"models/preprocessor.b\", artifact_path=\"preprocessor\")"
   ],
   "id": "4662a33e2b48ce88",
   "outputs": [],
   "execution_count": null
  },
  {
   "metadata": {},
   "cell_type": "markdown",
   "source": [
    "### 3.2 Registrar modelos a través de la UI\n",
    "\n",
    "https://mlflow.org/docs/latest/model-registry.html#ui-workflow"
   ],
   "id": "5626393db2749dd"
  },
  {
   "metadata": {},
   "cell_type": "markdown",
   "source": [
    "### 3.3 Registrar modelos a través de código\n",
    "\n",
    "Hay 3 maneras de registrar un modelo a través de código:\n",
    "\n",
    "1. `mlflow.<framework>.log_model()`\n"
   ],
   "id": "76f1dafa14d5df38"
  },
  {
   "metadata": {},
   "cell_type": "code",
   "source": [
    "from sklearn.ensemble import RandomForestRegressor\n",
    "\n",
    "\n",
    "with mlflow.start_run(run_name=\"RandomForestRegressor\"):\n",
    "    ml_model = RandomForestRegressor(\n",
    "        n_estimators=100,\n",
    "        max_depth=15,\n",
    "        random_state=42\n",
    "    )\n",
    "    \n",
    "    ml_model.fit(X_train, y_train)\n",
    "    \n",
    "    mlflow.sklearn.log_model(\n",
    "        sk_model=model, \n",
    "        artifact_path=\"model\",\n",
    "        registered_model_name=\"nyc-taxi-model\"\n",
    "    )\n",
    "    \n",
    "    y_pred = ml_model.predict(X_val)\n",
    "    \n",
    "    rmse = root_mean_squared_error(y_val, y_pred)\n",
    "    mlflow.log_metric(\"rmse\", rmse)\n",
    "    \n",
    "    # !mkdir models\n",
    "    with open(\"models/preprocessor.b\", \"wb\") as f_out:\n",
    "        pickle.dump(dv, f_out)\n",
    "        \n",
    "    mlflow.log_artifact(\"models/preprocessor.b\", artifact_path=\"preprocessor\")"
   ],
   "id": "99a611d32149176c",
   "outputs": [],
   "execution_count": null
  },
  {
   "metadata": {},
   "cell_type": "markdown",
   "source": [
    "En el anterior código, si un modelo con el nombre `nyc-taxi-model` no existe, `MLflow` en automático lo creará y le asignará la `versión 1`. Si ya existe un modelo registrado con ese nombre, el método crea una nueva versión del modelo.\n",
    "\n",
    "2. La segunda manera es usando el método`mlflow.register_model()`. Después de que todos los `run` terminen y cuando se haya decidido cuál modelo es más adecuado para agregar al `Model Registry`."
   ],
   "id": "b2f9274cdce62795"
  },
  {
   "metadata": {},
   "cell_type": "code",
   "source": [
    "run_id = input(\"Ingrese el run_id\")\n",
    "run_uri = f\"runs:/{run_id}/model\"\n",
    "\n",
    "result = mlflow.register_model(\n",
    "    model_uri=run_uri,\n",
    "    name=\"nyc-taxi-model\"\n",
    ")"
   ],
   "id": "128c62b72b537d4f",
   "outputs": [],
   "execution_count": null
  },
  {
   "metadata": {},
   "cell_type": "markdown",
   "source": [
    "Si un modelo registrado con el nombre no existe \"nyc-taxi-model\", el método registra un nuevo modelo, crea la `Versión 1` y devuelve un objeto `ModelVersion` de `MLflow`. Si ya existe un modelo registrado con ese nombre, el método crea una nueva versión del modelo y devuelve el objeto de la versión.\n",
    "\n",
    "3. Finalmente, se puede usar la clase `MlflowClient`.\n",
    "\n",
    "La clase `MlflowClient` es un cliente para:\n",
    "* Un `MLflow Tracking Server` que crea y administra `experimentos` y `runs`.\n",
    "* Un `MLflow Registry Server` que crea y administra modelos registrados y versiones del modelo.\n",
    "\n",
    "Para instanciar el cliente se usa el siguiente código:\n"
   ],
   "id": "cfd8e4dad7ee19af"
  },
  {
   "metadata": {},
   "cell_type": "code",
   "outputs": [],
   "execution_count": null,
   "source": [
    "from mlflow import MlflowClient\n",
    "\n",
    "client = MlflowClient(tracking_uri=\"sqlite:///mlflow.db\")"
   ],
   "id": "fe81fc16410c557e"
  },
  {
   "metadata": {},
   "cell_type": "markdown",
   "source": [
    "Ahora sí, el tercer camino: \n",
    "* Se debe registrar un modelo si aún no existe con el método `create_registered_model()`\n",
    "* Crear la nueva versión del modelo con el método `create_model_version()`"
   ],
   "id": "406219578eb08a22"
  },
  {
   "metadata": {},
   "cell_type": "code",
   "outputs": [],
   "execution_count": null,
   "source": "client.create_registered_model(name=\"nyc-taxi-model\")",
   "id": "63864235de026325"
  },
  {
   "metadata": {},
   "cell_type": "code",
   "source": [
    "run_id = input(\"Ingrese el run_id\")\n",
    "run_uri = f\"runs:/{run_id}/model\"\n",
    "\n",
    "result = client.create_model_version(\n",
    "    name=\"nyc-taxi-model\",\n",
    "    source=run_uri,\n",
    "    run_id=run_id\n",
    ")"
   ],
   "id": "1348a92f919c8aae",
   "outputs": [],
   "execution_count": null
  },
  {
   "metadata": {},
   "cell_type": "markdown",
   "source": "### 3.4 Asignar aliases y descripciones",
   "id": "3653932f3c3ec7b"
  },
  {
   "metadata": {},
   "cell_type": "code",
   "source": [
    "from mlflow import MlflowClient\n",
    "\n",
    "client = MlflowClient(tracking_uri=\"sqlite:///mlflow.db\")\n",
    "\n",
    "# create \"champion\" alias for version 1 of model \"example-model\"\n",
    "client.set_registered_model_alias(\n",
    "    name=\"nyc-taxi-model\", \n",
    "    alias=\"champion\",\n",
    "    version=10\n",
    ")\n",
    "\n",
    "# set the \"challenger\" alias to version 2\n",
    "client.set_registered_model_alias(\n",
    "    name=\"nyc-taxi-model\", \n",
    "    alias=\"challenger\",\n",
    "    version=7\n",
    ")"
   ],
   "id": "81ca892684a1c3",
   "outputs": [],
   "execution_count": null
  },
  {
   "metadata": {},
   "cell_type": "code",
   "source": [
    "# get a model version by alias\n",
    "client.get_model_version_by_alias(\n",
    "    name=\"nyc-taxi-model\",\n",
    "    alias=\"champion\"\n",
    ")"
   ],
   "id": "f737948eb7de766d",
   "outputs": [],
   "execution_count": null
  },
  {
   "metadata": {},
   "cell_type": "code",
   "source": [
    "# delete the alias\n",
    "client.delete_registered_model_alias(\n",
    "    name=\"nyc-taxi-model\", \n",
    "    alias=\"challenger\"\n",
    ")"
   ],
   "id": "7d0343cddd3d23a1",
   "outputs": [],
   "execution_count": null
  },
  {
   "metadata": {},
   "cell_type": "code",
   "source": [
    "client.update_model_version(\n",
    "    name=\"nyc-taxi-model\",\n",
    "    version=1,\n",
    "    description=\"This model version is a scikit-learn random forest containing 100 decision trees\",\n",
    ")"
   ],
   "id": "7dfb719232e3e898",
   "outputs": [],
   "execution_count": null
  },
  {
   "metadata": {},
   "cell_type": "markdown",
   "source": [
    "### 3.5 Obteniendo modelos del registro de modelos\n",
    "\n",
    "1. Obtener el modelo por versión del modelo"
   ],
   "id": "614c95bccf113382"
  },
  {
   "metadata": {},
   "cell_type": "code",
   "source": [
    "import mlflow.pyfunc\n",
    "\n",
    "model_name = \"nyc-taxi-model\"\n",
    "model_version = 1\n",
    "\n",
    "model_uri = f\"models:/{model_name}/{model_version}\"\n",
    "\n",
    "model = mlflow.pyfunc.load_model(\n",
    "    model_uri=model_uri,\n",
    ")\n",
    "\n",
    "model.predict(X_val)"
   ],
   "id": "f981ff46a877ad74",
   "outputs": [],
   "execution_count": null
  },
  {
   "metadata": {},
   "cell_type": "markdown",
   "source": "2. Obtener el modelo por alias",
   "id": "d213c10eea6a3f91"
  },
  {
   "metadata": {},
   "cell_type": "code",
   "source": [
    "import mlflow.pyfunc\n",
    "\n",
    "model_name = \"nyc-taxi-model\"\n",
    "alias = \"champion\"\n",
    "\n",
    "model_uri = f\"models:/{model_name}@{alias}\"\n",
    "\n",
    "champion_version = mlflow.pyfunc.load_model(\n",
    "    model_uri=model_uri\n",
    ")\n",
    "\n",
    "champion_version.predict(X_val)"
   ],
   "id": "a8798f4ea7730a6c",
   "outputs": [],
   "execution_count": null
  },
  {
   "metadata": {},
   "cell_type": "markdown",
   "source": [
    "### 3.6 Comparación de versiones y selección del nuevo modelo `champion`\n",
    "\n",
    "En la última sección, recuperaremos los modelos registrados en el `Model Registry` y compararemos su rendimiento en un conjunto de pruebas no visto.\n",
    " \n",
    "La idea es simular el escenario en el que un ingeniero de despliegue tiene que interactuar con el `Model Registry` para decidir si actualizar o no la versión del modelo que está en producción.\n",
    "\n",
    "Estos son los pasos:\n",
    "\n",
    "1. Cargar el conjunto de datos de prueba, que corresponde a los datos de los taxis verdes de NYC del mes de marzo de 2024.\n",
    "2. Descargar el `DictVectorizer` que se ajustó utilizando los datos de entrenamiento y se guardó en `MLflow` como un artefacto, y cargarlo con pickle.\n",
    "3. Preprocesar el conjunto de pruebas utilizando el `DictVectorizer` para poder alimentar correctamente los regresores.\n",
    "4. Realizar predicciones en el conjunto de pruebas utilizando las versiones de los modelos que actualmente están en las etapas \"challenger\" y \"champion\", y comparar su rendimiento.\n",
    "5. Con base en los resultados, actualizar la versión del modelo \"champion\" según corresponda.\n"
   ],
   "id": "cc5b7e5f34046a82"
  },
  {
   "metadata": {},
   "cell_type": "code",
   "source": [
    "# Create the directory if it doesn't exist\n",
    "!mkdir -p ./data\n",
    "\n",
    "# Download files using curl\n",
    "!curl -o ./data/green_tripdata_2024-03.parquet https://d37ci6vzurychx.cloudfront.net/trip-data/green_tripdata_2024-03.parquet"
   ],
   "id": "8af7a148e70352bc",
   "outputs": [],
   "execution_count": null
  },
  {
   "metadata": {},
   "cell_type": "code",
   "source": [
    "def read_dataframe(filename):\n",
    "    df = pd.read_parquet(filename)\n",
    "\n",
    "    df.lpep_dropoff_datetime = pd.to_datetime(df.lpep_dropoff_datetime)\n",
    "    df.lpep_pickup_datetime = pd.to_datetime(df.lpep_pickup_datetime)\n",
    "\n",
    "    df['duration'] = df.lpep_dropoff_datetime - df.lpep_pickup_datetime\n",
    "    df.duration = df.duration.apply(lambda td: td.total_seconds() / 60)\n",
    "\n",
    "    df = df[(df.duration >= 1) & (df.duration <= 60)]\n",
    "\n",
    "    categorical = ['PULocationID', 'DOLocationID']\n",
    "    df[categorical] = df[categorical].astype(str)\n",
    "    \n",
    "    return df\n",
    "\n",
    "\n",
    "def preprocess(df, dv):\n",
    "    df['PU_DO'] = df['PULocationID'] + '_' + df['DOLocationID']\n",
    "    categorical = ['PU_DO']\n",
    "    numerical = ['trip_distance']\n",
    "    train_dicts = df[categorical + numerical].to_dict(orient='records')\n",
    "    return dv.transform(train_dicts)\n",
    "\n",
    "\n",
    "def test_model(name, alias, X_test, y_test):\n",
    "    model = mlflow.pyfunc.load_model(f\"models:/{name}@{alias}\")\n",
    "    y_pred = model.predict(X_test)\n",
    "    return {\"rmse\": root_mean_squared_error(y_test, y_pred)}"
   ],
   "id": "988573105dd578ff",
   "outputs": [],
   "execution_count": null
  },
  {
   "metadata": {},
   "cell_type": "code",
   "source": "df = read_dataframe(\"data/green_tripdata_2024-03.parquet\")",
   "id": "1aa69e8e0b5cd387",
   "outputs": [],
   "execution_count": null
  },
  {
   "metadata": {},
   "cell_type": "code",
   "source": [
    "run_id = input(\"Ingrese el run_id\")\n",
    "\n",
    "client.download_artifacts(\n",
    "    run_id=run_id, \n",
    "    path='preprocessor', \n",
    "    dst_path='.'\n",
    ")"
   ],
   "id": "57c1e239cea92f94",
   "outputs": [],
   "execution_count": null
  },
  {
   "metadata": {},
   "cell_type": "code",
   "source": [
    "import pickle\n",
    "\n",
    "with open(\"preprocessor/preprocessor.b\", \"rb\") as f_in:\n",
    "    dv = pickle.load(f_in)"
   ],
   "id": "8a313667038119e6",
   "outputs": [],
   "execution_count": null
  },
  {
   "metadata": {},
   "cell_type": "code",
   "source": "X_test = preprocess(df, dv)",
   "id": "88958989d46cde10",
   "outputs": [],
   "execution_count": null
  },
  {
   "metadata": {},
   "cell_type": "code",
   "source": [
    "target = \"duration\"\n",
    "y_test = df[target].values"
   ],
   "id": "2e0e68a4c78b93a",
   "outputs": [],
   "execution_count": null
  },
  {
   "metadata": {},
   "cell_type": "code",
   "source": "%time test_model(name=\"nyc-taxi-model\", alias=\"champion\", X_test=X_test, y_test=y_test)",
   "id": "628847841b626770",
   "outputs": [],
   "execution_count": null
  },
  {
   "metadata": {},
   "cell_type": "code",
   "source": "%time test_model(name=model_name, alias=\"challenger\", X_test=X_test, y_test=y_test)",
   "id": "d6938017cc3c92a8",
   "outputs": [],
   "execution_count": null
  },
  {
   "metadata": {},
   "cell_type": "code",
   "source": [
    "client.set_registered_model_alias(\n",
    "    name=\"nyc-taxi-model\", \n",
    "    alias=\"champion\",\n",
    "    version=100\n",
    ")"
   ],
   "id": "b701558efba308d4",
   "outputs": [],
   "execution_count": null
  },
  {
   "metadata": {},
   "cell_type": "markdown",
   "source": "## 4. Quiz la siguiente Clase 17 de septiembre de 2024 en hora de clase. Empieza puntual a las 20:10. Será sobre los temas: MLOps, Experiment Tracking y Model Registry; clases 8, 9 y 10 respectivamente.\n",
   "id": "9531cefc0eb41214"
  },
  {
   "metadata": {},
   "cell_type": "code",
   "outputs": [],
   "execution_count": null,
   "source": "",
   "id": "a156f37bae553e0b"
  }
 ],
 "metadata": {
  "kernelspec": {
   "display_name": "Python 3",
   "language": "python",
   "name": "python3"
  },
  "language_info": {
   "codemirror_mode": {
    "name": "ipython",
    "version": 2
   },
   "file_extension": ".py",
   "mimetype": "text/x-python",
   "name": "python",
   "nbconvert_exporter": "python",
   "pygments_lexer": "ipython2",
   "version": "2.7.6"
  }
 },
 "nbformat": 4,
 "nbformat_minor": 5
}
