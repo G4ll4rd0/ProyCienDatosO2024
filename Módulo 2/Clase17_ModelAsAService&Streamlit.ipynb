{
 "cells": [
  {
   "cell_type": "markdown",
   "metadata": {},
   "source": [
    "# Model as a Service\n"
   ]
  },
  {
   "cell_type": "code",
   "execution_count": 6,
   "metadata": {
    "ExecuteTime": {
     "end_time": "2024-10-11T01:33:35.036611Z",
     "start_time": "2024-10-11T01:33:33.726869Z"
    }
   },
   "outputs": [
    {
     "data": {
      "text/html": [
       "<pre style=\"white-space:pre;overflow-x:auto;line-height:normal;font-family:Menlo,'DejaVu Sans Mono',consolas,'Courier New',monospace\">Initialized MLflow to track repo <span style=\"color: #008000; text-decoration-color: #008000\">\"zapatacc/nyc-taxi-time-prediction\"</span>\n",
       "</pre>\n"
      ],
      "text/plain": [
       "Initialized MLflow to track repo \u001B[32m\"zapatacc/nyc-taxi-time-prediction\"\u001B[0m\n"
      ]
     },
     "metadata": {},
     "output_type": "display_data"
    },
    {
     "data": {
      "text/html": [
       "<pre style=\"white-space:pre;overflow-x:auto;line-height:normal;font-family:Menlo,'DejaVu Sans Mono',consolas,'Courier New',monospace\">Repository zapatacc/nyc-taxi-time-prediction initialized!\n",
       "</pre>\n"
      ],
      "text/plain": [
       "Repository zapatacc/nyc-taxi-time-prediction initialized!\n"
      ]
     },
     "metadata": {},
     "output_type": "display_data"
    },
    {
     "data": {
      "application/vnd.jupyter.widget-view+json": {
       "model_id": "687ec46a7613469ab7ecff192a5ab3bd",
       "version_major": 2,
       "version_minor": 0
      },
      "text/plain": [
       "Downloading artifacts:   0%|          | 0/1 [00:00<?, ?it/s]"
      ]
     },
     "metadata": {},
     "output_type": "display_data"
    },
    {
     "data": {
      "text/plain": [
       "'/Users/cristianzapata/Library/Mobile Documents/com~apple~CloudDocs/Iteso/Cursos/Proyecto en Ciencia de Datos/ProyCienDatos2024-2/Módulo 2/preprocessor'"
      ]
     },
     "execution_count": 6,
     "metadata": {},
     "output_type": "execute_result"
    }
   ],
   "source": [
    "import pickle\n",
    "import mlflow\n",
    "import dagshub\n",
    "from fastapi import FastAPI\n",
    "from pydantic import BaseModel\n",
    "from mlflow import MlflowClient\n",
    "\n",
    "\n",
    "# MLflow settings\n",
    "# MLFLOW_TRACKING_URI = \"https://dagshub.com/zapatacc/nyc-taxi-time-prediction.mlflow\"\n",
    "MLFLOW_TRACKING_URI = \"url/to/mlflow/track/uri\"\n",
    "\n",
    "mlflow.set_tracking_uri(uri=MLFLOW_TRACKING_URI)\n",
    "client = MlflowClient(tracking_uri=MLFLOW_TRACKING_URI)\n",
    "\n",
    "run_ = mlflow.search_runs(order_by=['metrics.rmse ASC'],\n",
    "                          output_format=\"list\",\n",
    "                          experiment_names=[\"nyc-taxi-experiment-prefect\"]\n",
    "                          )[0]\n",
    "run_id = run_.info.run_id\n",
    "\n",
    "run_uri = f\"runs:/{run_id}/preprocessor\"\n",
    "\n",
    "client.download_artifacts(\n",
    "    run_id=run_id,\n",
    "    path='preprocessor',\n",
    "    dst_path='.'\n",
    ")\n",
    "\n",
    "with open(\"preprocessor/preprocessor.b\", \"rb\") as f_in:\n",
    "    dv = pickle.load(f_in)\n",
    "\n",
    "model_name = \"nyc-taxi-model\"\n",
    "alias = \"champion\"\n",
    "\n",
    "model_uri = f\"models:/{model_name}@{alias}\"\n",
    "\n",
    "champion_model = mlflow.pyfunc.load_model(\n",
    "    model_uri=model_uri\n",
    ")\n"
   ]
  },
  {
   "cell_type": "code",
   "execution_count": null,
   "metadata": {},
   "outputs": [],
   "source": [
    "def preprocess(input_data):\n",
    "\n",
    "    input_dict = {\n",
    "        'PU_DO': input_data.PULocationID + \"_\" + input_data.DOLocationID,\n",
    "        'trip_distance': input_data.trip_distance,\n",
    "    }\n",
    "\n",
    "    return dv.transform(input_dict)\n",
    "\n",
    "def predict(input_data):\n",
    "\n",
    "    X_val = preprocess(input_data)\n",
    "\n",
    "    return champion_model.predict(X_val)"
   ]
  },
  {
   "cell_type": "code",
   "execution_count": null,
   "metadata": {},
   "outputs": [],
   "source": [
    "app = FastAPI()\n",
    "\n",
    "class InputData(BaseModel):\n",
    "    PULocationID: str\n",
    "    DOLocationID: str\n",
    "    trip_distance: float\n",
    "\n",
    "\n",
    "@app.post(\"/predict\")\n",
    "def predict_endpoint(input_data: InputData):\n",
    "    result = predict(input_data)[0]\n",
    "    return {\"prediction\": float(result)}"
   ]
  },
  {
   "cell_type": "markdown",
   "metadata": {},
   "source": "# Streamlit\n"
  },
  {
   "metadata": {},
   "cell_type": "code",
   "outputs": [],
   "execution_count": null,
   "source": [
    "import streamlit as st\n",
    "import requests\n",
    "import json\n",
    "\n",
    "st.write(\"\"\"\n",
    "# Application to predict the time for the NYC taxi trips\n",
    "\"\"\")\n",
    "\n",
    "st.sidebar.header('User Input Parameters')\n",
    "\n",
    "def user_input_features():\n",
    "    PU = st.sidebar.text_input(\"PU Location ID\", \"80\")\n",
    "    DO = st.sidebar.text_input(\"DO Location ID\", \"60\")\n",
    "    trip_distance = st.sidebar.number_input(\"Trip Distance\", value=10, min_value=1, max_value=100)\n",
    "\n",
    "    input_dict = {\n",
    "        'PULocationID': PU,\n",
    "        'DOLocationID': DO,\n",
    "        'trip_distance': trip_distance,\n",
    "    }\n",
    "\n",
    "    return input_dict\n",
    "\n",
    "\n",
    "input_dict = user_input_features()"
   ]
  },
  {
   "cell_type": "markdown",
   "metadata": {
    "collapsed": false,
    "jupyter": {
     "outputs_hidden": false
    },
    "pycharm": {
     "name": "#%% md\n"
    }
   },
   "source": "### Para llamar una API desde streamlit"
  },
  {
   "metadata": {},
   "cell_type": "code",
   "outputs": [],
   "execution_count": null,
   "source": [
    "if st.button('Predict'):\n",
    "    response = requests.post(\n",
    "        url=\"http://127.0.0.1:8000/predict\",\n",
    "        data=json.dumps(input_dict)\n",
    "    )\n",
    "\n",
    "    st.write(f\"El tiempo estimado del viaje es: {response.json()['prediction']} minutos\")"
   ]
  }
 ],
 "metadata": {
  "kernelspec": {
   "display_name": "Python 3 (ipykernel)",
   "language": "python",
   "name": "python3"
  },
  "language_info": {
   "codemirror_mode": {
    "name": "ipython",
    "version": 3
   },
   "file_extension": ".py",
   "mimetype": "text/x-python",
   "name": "python",
   "nbconvert_exporter": "python",
   "pygments_lexer": "ipython3",
   "version": "3.12.5"
  }
 },
 "nbformat": 4,
 "nbformat_minor": 4
}
