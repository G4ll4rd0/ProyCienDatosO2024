{
 "cells": [
  {
   "metadata": {},
   "cell_type": "markdown",
   "source": "# Model as a Service\n"
  },
  {
   "metadata": {
    "ExecuteTime": {
     "end_time": "2024-10-11T01:33:35.036611Z",
     "start_time": "2024-10-11T01:33:33.726869Z"
    }
   },
   "cell_type": "code",
   "source": [
    "import pickle\n",
    "import mlflow\n",
    "import dagshub\n",
    "from fastapi import FastAPI\n",
    "from pydantic import BaseModel\n",
    "from mlflow import MlflowClient\n",
    "\n",
    "\n",
    "# MLflow settings\n",
    "dagshub_repo = \"url-to-your-repo\"\n",
    "# dagshub_repo =\"https://dagshub.com/zapatacc/nyc-taxi-time-prediction\"\n",
    "\n",
    "dagshub.init(url=dagshub_repo, mlflow=True)\n",
    "\n",
    "MLFLOW_TRACKING_URI = mlflow.get_tracking_uri()\n",
    "\n",
    "mlflow.set_tracking_uri(uri=MLFLOW_TRACKING_URI)\n",
    "client = MlflowClient(tracking_uri=MLFLOW_TRACKING_URI)\n",
    "\n",
    "run_ = mlflow.search_runs(order_by=['metrics.rmse ASC'],\n",
    "                          output_format=\"list\",\n",
    "                          experiment_names=[\"nyc-taxi-experiment-prefect\"]\n",
    "                          )[0]\n",
    "run_id = run_.info.run_id\n",
    "\n",
    "run_uri = f\"runs:/{run_id}/preprocessor\"\n",
    "\n",
    "client.download_artifacts(\n",
    "    run_id=run_id,\n",
    "    path='preprocessor',\n",
    "    dst_path='.'\n",
    ")\n",
    "\n",
    "with open(\"preprocessor/preprocessor.b\", \"rb\") as f_in:\n",
    "    dv = pickle.load(f_in)\n",
    "\n",
    "model_name = \"nyc-taxi-model\"\n",
    "alias = \"champion\"\n",
    "\n",
    "model_uri = f\"models:/{model_name}@{alias}\"\n",
    "\n",
    "champion_model = mlflow.pyfunc.load_model(\n",
    "    model_uri=model_uri\n",
    ")\n"
   ],
   "outputs": [
    {
     "data": {
      "text/plain": [
       "Initialized MLflow to track repo \u001B[32m\"zapatacc/nyc-taxi-time-prediction\"\u001B[0m\n"
      ],
      "text/html": [
       "<pre style=\"white-space:pre;overflow-x:auto;line-height:normal;font-family:Menlo,'DejaVu Sans Mono',consolas,'Courier New',monospace\">Initialized MLflow to track repo <span style=\"color: #008000; text-decoration-color: #008000\">\"zapatacc/nyc-taxi-time-prediction\"</span>\n",
       "</pre>\n"
      ]
     },
     "metadata": {},
     "output_type": "display_data"
    },
    {
     "data": {
      "text/plain": [
       "Repository zapatacc/nyc-taxi-time-prediction initialized!\n"
      ],
      "text/html": [
       "<pre style=\"white-space:pre;overflow-x:auto;line-height:normal;font-family:Menlo,'DejaVu Sans Mono',consolas,'Courier New',monospace\">Repository zapatacc/nyc-taxi-time-prediction initialized!\n",
       "</pre>\n"
      ]
     },
     "metadata": {},
     "output_type": "display_data"
    },
    {
     "data": {
      "text/plain": [
       "Downloading artifacts:   0%|          | 0/1 [00:00<?, ?it/s]"
      ],
      "application/vnd.jupyter.widget-view+json": {
       "version_major": 2,
       "version_minor": 0,
       "model_id": "687ec46a7613469ab7ecff192a5ab3bd"
      }
     },
     "metadata": {},
     "output_type": "display_data"
    },
    {
     "data": {
      "text/plain": [
       "'/Users/cristianzapata/Library/Mobile Documents/com~apple~CloudDocs/Iteso/Cursos/Proyecto en Ciencia de Datos/ProyCienDatos2024-2/Módulo 2/preprocessor'"
      ]
     },
     "execution_count": 6,
     "metadata": {},
     "output_type": "execute_result"
    }
   ],
   "execution_count": 6
  },
  {
   "metadata": {},
   "cell_type": "code",
   "outputs": [],
   "execution_count": null,
   "source": [
    "def preprocess(input_data):\n",
    "\n",
    "    input_dict = {\n",
    "        'PU_DO': input_data.PULocationID + \"_\" + input_data.DOLocationID,\n",
    "        'trip_distance': input_data.trip_distance,\n",
    "    }\n",
    "\n",
    "    return dv.transform(input_dict)\n",
    "\n",
    "def predict(input_data):\n",
    "\n",
    "    X_val = preprocess(input_data)\n",
    "\n",
    "    return champion_model.predict(X_val)"
   ]
  },
  {
   "metadata": {},
   "cell_type": "code",
   "outputs": [],
   "execution_count": null,
   "source": [
    "app = FastAPI()\n",
    "\n",
    "class InputData(BaseModel):\n",
    "    PULocationID: str\n",
    "    DOLocationID: str\n",
    "    trip_distance: float\n",
    "\n",
    "\n",
    "@app.post(\"/predict\")\n",
    "def predict_endpoint(input_data: InputData):\n",
    "    result = predict(input_data)[0]\n",
    "    return {\"prediction\": float(result)}"
   ]
  },
  {
   "metadata": {
    "collapsed": false,
    "jupyter": {
     "outputs_hidden": false
    },
    "pycharm": {
     "name": "#%% md\n"
    }
   },
   "cell_type": "markdown",
   "source": [
    "# Streamlit\n",
    "\n",
    "\n",
    "```\n",
    "import streamlit as st\n",
    "import pandas as pd\n",
    "from sklearn import datasets\n",
    "from sklearn.ensemble import RandomForestClassifier\n",
    "\n",
    "st.write(\"\"\"\n",
    "# Simple Iris Flower Prediction App\n",
    "This app predicts the **Iris flower** type!\n",
    "\"\"\")\n",
    "\n",
    "st.sidebar.header('User Input Parameters')\n",
    "\n",
    "def user_input_features():\n",
    "    sepal_length = st.sidebar.slider('Sepal length', 4.3, 7.9, 5.4)\n",
    "    sepal_width = st.sidebar.slider('Sepal width', 2.0, 4.4, 3.4)\n",
    "    petal_length = st.sidebar.slider('Petal length', 1.0, 6.9, 1.3)\n",
    "    petal_width = st.sidebar.slider('Petal width', 0.1, 2.5, 0.2)\n",
    "    data = {'sepal_length': sepal_length,\n",
    "            'sepal_width': sepal_width,\n",
    "            'petal_length': petal_length,\n",
    "            'petal_width': petal_width}\n",
    "    features = pd.DataFrame(data, index=[0])\n",
    "    return features\n",
    "\n",
    "df = user_input_features()\n",
    "\n",
    "st.subheader('User Input parameters')\n",
    "st.write(df)\n",
    "\n",
    "iris = datasets.load_iris()\n",
    "X = iris.data\n",
    "Y = iris.target\n",
    "\n",
    "clf = RandomForestClassifier()\n",
    "clf.fit(X, Y)\n",
    "\n",
    "prediction = clf.predict(df)\n",
    "prediction_proba = clf.predict_proba(df)\n",
    "\n",
    "st.subheader('Class labels and their corresponding index number')\n",
    "st.write(iris.target_names)\n",
    "\n",
    "st.subheader('Prediction')\n",
    "st.write(iris.target_names[prediction])\n",
    "#st.write(prediction)\n",
    "\n",
    "st.subheader('Prediction Probability')\n",
    "st.write(prediction_proba)\n",
    "```"
   ]
  },
  {
   "cell_type": "markdown",
   "metadata": {
    "collapsed": false,
    "jupyter": {
     "outputs_hidden": false
    },
    "pycharm": {
     "name": "#%% md\n"
    }
   },
   "source": [
    "### Para llamar una API desde streamlit\n",
    "```\n",
    "requests.post(url = “http://127.0.0.1:8000/predict\",\n",
    "              data = json.dumps(inputs))\n",
    "```\n",
    "\n",
    "```\n",
    "streamlit.button(\"Predict\")\n",
    "```"
   ]
  }
 ],
 "metadata": {
  "kernelspec": {
   "display_name": "Python 3 (ipykernel)",
   "language": "python",
   "name": "python3"
  },
  "language_info": {
   "codemirror_mode": {
    "name": "ipython",
    "version": 3
   },
   "file_extension": ".py",
   "mimetype": "text/x-python",
   "name": "python",
   "nbconvert_exporter": "python",
   "pygments_lexer": "ipython3",
   "version": "3.11.5"
  }
 },
 "nbformat": 4,
 "nbformat_minor": 4
}
