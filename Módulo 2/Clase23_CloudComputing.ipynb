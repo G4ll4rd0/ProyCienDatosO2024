{
 "cells": [
  {
   "cell_type": "markdown",
   "metadata": {},
   "source": [
    "# Cloud Computing\n",
    "\n",
    "\n"
   ]
  },
  {
   "cell_type": "markdown",
   "metadata": {},
   "source": [
    "### 1. Configuración del Nombre de la Instancia\n",
    "![Instance Name](./images/instance-name.png)\n",
    "\n",
    "*Asignar un nombre para identificar la instancia en el panel de control de AWS. Siga el formato `name-instance`*\n",
    "\n",
    "### 2. Selección del Sistema Operativo\n",
    "![OS Selection](./images/OS-selection.png)\n",
    "\n",
    "*En este paso, se selecciona la imagen del sistema operativo para la instancia EC2. Seleccione `Ubuntu`*\n",
    "\n",
    "### 3. Selección del Tipo de Instancia\n",
    "![Instance Type Selection](./images/instance-type-selection.png)\n",
    "\n",
    "*Se elige el tipo de instancia que se ajusta a las necesidades de cómputo y memoria. Seleccione `t2.micro`*\n",
    "\n",
    "### 4. Creación del Par de Claves\n",
    "![Key Pair Creation](./images/key-pair-creation.png)\n",
    "\n",
    "*Se crea un par de claves nuevo o se elige uno existente para conectarse a la instancia de manera segura. Nombrela siguiendo el format `name-key`*\n",
    "\n",
    "### 5. Configuración de la Red\n",
    "![Network Settings](./images/network-settings.png)\n",
    "\n",
    "*Click en `edit` y asignarle un nombre con el formato `name-security-group`*\n",
    "*Personalización del grupo de seguridad para controlar el tráfico de red entrante y saliente de la instancia.*\n",
    "\n",
    "\n",
    "\n",
    "\n"
   ]
  },
  {
   "cell_type": "markdown",
   "metadata": {},
   "source": [
    "Finalmente, vamos a hacer este proceso en la instancia de AWS.\n",
    "\n",
    "- Encender la instancia asignada a cada uno\n",
    "- Conectarse a la instancia. Note que debe cambiar el nombre de la `key.pm` y la dirección ip de su instancia. La opción `-o ServerAliveInterval=60` nos permite mantener la sesión viva.\n",
    "    \n",
    "```bash\n",
    "ssh -i \"key-cristian.pem\" -o ServerAliveInterval=60 ubuntu@ec2-3-85-174-98.compute-1.amazonaws.com\n",
    "\n",
    "```\n",
    "- Crear ssh key en la instancia\n",
    "\n",
    "```bash\n",
    "ssh-keygen -t ed25519 -C \"your_email@example.com\"  \n",
    "```\n",
    "\n",
    "- Copiar dicha key y pegarla en github\n",
    "```bash\n",
    "cat ~/.ssh/id_xxxxx.pub\n",
    "```\n",
    "\n",
    "- Clonar repositorio\n",
    "\n",
    "- Instalar Docker, ejecutando los siguientes comandos:\n",
    "\n",
    "```bash\n",
    "sudo apt-get update\n",
    "sudo apt-get install ca-certificates curl gnupg\n",
    "sudo install -m 0755 -d /etc/apt/keyrings\n",
    "curl -fsSL https://download.docker.com/linux/ubuntu/gpg | sudo gpg --dearmor -o /etc/apt/keyrings/docker.gpg\n",
    "sudo chmod a+r /etc/apt/keyrings/docker.gpg\n",
    "echo \\\n",
    "  \"deb [arch=\"$(dpkg --print-architecture)\" signed-by=/etc/apt/keyrings/docker.gpg] https://download.docker.com/linux/ubuntu \\\n",
    "  \"$(. /etc/os-release && echo \"$VERSION_CODENAME\")\" stable\" | \\\n",
    "  sudo tee /etc/apt/sources.list.d/docker.list > /dev/null\n",
    "sudo apt-get update\n",
    "sudo apt-get install docker-ce docker-ce-cli containerd.io docker-buildx-plugin docker-compose-plugin\n",
    "```\n",
    "\n",
    "- Construir imagenes y correr contenedores con `sudo docker-compose`\n",
    "- Configuración de Reglas de Ingreso al Grupo de Seguridad\n",
    "*Después de crear el grupo de seguridad, es importante agregar una regla para permitir el tráfico entrante al puerto 8501, especialmente si se planea ejecutar una aplicación en Streamlit.*\n",
    "    \n",
    "    1. Ve a la configuración del grupo de seguridad de tu instancia.\n",
    "    2. Haz clic en \"Editar reglas de ingreso\".\n",
    "    3. Agrega una nueva regla con los siguientes parámetros:\n",
    "       - **Tipo**: Personalizado TCP\n",
    "       - **Puerto**: 8501\n",
    "       - **Origen**: 0.0.0.0/0 (para permitir tráfico desde cualquier lugar) o una IP específica por razones de seguridad.\n",
    "    4. Guarda los cambios.\n",
    "\n",
    "- Probar con la dirección ip pública y los datos previamente expuestos.\n",
    "- Finalmente, para apagar la instancia, ejecutar el siguiente comando\n",
    "```bash\n",
    "sudo shutdown -h now\n",
    "```"
   ]
  },
  {
   "cell_type": "code",
   "execution_count": null,
   "metadata": {},
   "outputs": [],
   "source": []
  }
 ],
 "metadata": {
  "kernelspec": {
   "display_name": "Python 3 (ipykernel)",
   "language": "python",
   "name": "python3"
  },
  "language_info": {
   "codemirror_mode": {
    "name": "ipython",
    "version": 3
   },
   "file_extension": ".py",
   "mimetype": "text/x-python",
   "name": "python",
   "nbconvert_exporter": "python",
   "pygments_lexer": "ipython3",
   "version": "3.12.5"
  }
 },
 "nbformat": 4,
 "nbformat_minor": 4
}
