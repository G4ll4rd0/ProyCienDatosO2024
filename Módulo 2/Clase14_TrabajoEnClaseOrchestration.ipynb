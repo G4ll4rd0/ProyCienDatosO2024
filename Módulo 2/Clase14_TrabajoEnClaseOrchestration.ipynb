{
 "cells": [
  {
   "metadata": {},
   "cell_type": "markdown",
   "source": "Pero falta todavía registrar dicho modelo en el `model registry`.",
   "id": "b3f6235c708ca03d"
  },
  {
   "metadata": {},
   "cell_type": "markdown",
   "source": [
    "Pero qué sucede? Necesitamos el `run_id`. No quiero ingresarlo manualmente.\n",
    "\n",
    "## Actividad en clase:\n",
    "### A los 3 primeros que logren terminar la siguiente actividad les subiré el puntaje a 100 de la tarea con menor calificación actualmente.\n",
    "\n",
    "1. Crear una nueva task para agregar el modelo con mejor métrica al `model registry`.\n",
    "2. El modelo debe tener como nombre `nyc-taxi-model-prefect` en el `model registry` para diferenciarlo del modelo que ya tenemos actualmente.\n",
    "3. El registro debe ser automático, puede hacer uso de la función `mlflow.register_model` que ya saben utilizar de la tarea anterior.\n",
    "4. Si recuerdan, esa función requiere un `run_uri`, el cual se conformaba algo como `f\"runs:/{run_id}/model\"`. Nosotros buscabamos manualmente el `run_id`, pero `mlflow` tiene manera de hacer una query y ordenar los resultados por métrica en orden ascendente y devolver dicho `run_id`.\n",
    "5. Busque dicha función e impleméntela en la lógica para que sea de manera automática la obtención del `run_uri`. Use la documentación oficial de `mlflow`, saber leer y usar la documentación es una skill que como Data Scientist también debe tener. PROHIBIDO EL USO DE CHATGPT.\n",
    "6. Asígnele a esa versión del modelo registrado, el alias de `@champion`. Para ello utilice la función `set_registered_model_alias` que ya sabe usar de la tarea pasada. Hint: Recuerde usar el cliente `MlflowClient` con el Tracking URI correspondiente.\n",
    "7. Corra el pipeline y verifique que se haya registrado el modelo en el `model registry`"
   ],
   "id": "25503e20133ce3fa"
  },
  {
   "metadata": {},
   "cell_type": "markdown",
   "source": [
    "## Tarea 7\n",
    "\n",
    "1. Terminar la actividad anterior.\n",
    "2. Crear un nuevo script llamado `train_challenger.py` dentro del directorio `training pipeline`\n",
    "3. Convertir la tarea 5 en un `flow` (en donde entrenó dos modelos, al mejor le asignó el alias `@challenger` comparó el desempeño con el `@champion`).\n",
    "4. El `flow` debe escoger quién es el nuevo `@champion` y asignarle el alias respectivo.\n",
    "5. Recuerde definir las `task` que considere\n",
    "6. Recuerde que los nombres de los `flow` deben ser únicos, que no interfiera con el `flow` del ejercicio anterior.\n",
    "7. Use el mismo nombre del experimeto del ejercicio anterior `nyc-taxi-experiment-prefect`\n",
    "8. Registre los modelos en el mismo `Model Registry` del ejercicio anterior `nyc-taxi-model-prefect`\n",
    "9. Cree un `PR` con los cambios hecho en esta branch hacia `main`\n",
    "\n",
    "## Fecha de entrega:\n",
    "Martes 8 de Octubre antes de la clase: 19:55"
   ],
   "id": "6a6b8d3493853dfe"
  }
 ],
 "metadata": {
  "kernelspec": {
   "display_name": "Python 3",
   "language": "python",
   "name": "python3"
  },
  "language_info": {
   "codemirror_mode": {
    "name": "ipython",
    "version": 2
   },
   "file_extension": ".py",
   "mimetype": "text/x-python",
   "name": "python",
   "nbconvert_exporter": "python",
   "pygments_lexer": "ipython2",
   "version": "2.7.6"
  }
 },
 "nbformat": 4,
 "nbformat_minor": 5
}
