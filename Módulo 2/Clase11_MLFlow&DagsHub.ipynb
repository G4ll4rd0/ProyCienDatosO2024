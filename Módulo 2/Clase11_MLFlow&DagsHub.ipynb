{
 "cells": [
  {
   "cell_type": "markdown",
   "metadata": {},
   "source": [
    "## Configuraciones comunes para un ambiente de `MLflow Tracking`.\n",
    "![](https://mlflow.org/docs/latest/_images/tracking-setup-overview.png)\n",
    "\n",
    "### Escenario 2\n",
    "```python\n",
    "# set mlflow tracking uri\n",
    "import mlflow\n",
    "mlflow.set_tracking_uri('sqlite:///mlflow.db')\n",
    "```\n",
    "\n",
    "### Escenario 3\n",
    "MLFlow remoto\n",
    "\n",
    "```python\n",
    "import mlflow\n",
    "\n",
    "mlflow.set_tracking_uri('url/remote/server')\n",
    "```\n"
   ]
  },
  {
   "metadata": {},
   "cell_type": "markdown",
   "source": [
    "## `MLflow`: Beneficios\n",
    "* El `Tracking server` puede ser fácilmente desplegado en la nube\n",
    "* Compartir experimentos con otros Data Scientists\n",
    "* Colaborar con otros para construir y desplegar modelos\n",
    "* Dar más visibilidad de los esfuerzos del equipo de Data Science.\n",
    "\n",
    "## `MLflow`: Problemas cuando se ejecutan servidores remotos compartidos\n",
    "* Seguridad:\n",
    "    * Restringir el acceso al server (por ejemplo a través de una VPN)\n",
    "* Isolation:\n",
    "    * Definir un estándar para nombrar experimentos, modelos y un conjunto de tags predeterminados.\n",
    "    * Restringir el acceso a los artefactos  \n",
    "\n",
    "## `MLflow`: Limitaciones\n",
    "* **Autenticación y Usuarios:** La versión open source de `MLflow` no provee ningún tipo de autenticación\n",
    "* **Versionamiento de datos** \n",
    "    * Para asegurar total reproducibilidad, necesitamos versionar los datos que se usan para entrenar el modelo.\n",
    "    * `MLflow` no provee una solución para eso, pero hay maneras de mitigarlo\n",
    "* **Monitoreo del modelo y datos:** Veremos la herramienta adecuada para este fin "
   ]
  },
  {
   "metadata": {},
   "cell_type": "markdown",
   "source": [
    "# DagsHub\n",
    " <div style=\"text-align:center\">\n",
    "    <img src=\"https://user-images.githubusercontent.com/611655/181510038-e38f4001-c304-411e-8f45-f71554eb9763.png\" alt=\"DagsHub Logo\">\n",
    "</div>\n",
    "\n",
    "## Introducción:\n",
    "DagsHub es una plataforma revolucionaria que se describe como el \"GitHub para el aprendizaje automático\". Permite a los científicos de datos y desarrolladores de aprendizaje automático gestionar y colaborar en sus proyectos de manera eficiente, asegurando la reproducibilidad y el control de versiones.\n",
    "\n",
    "## Características Clave:\n",
    "1. **Control de Versiones**: Realiza un seguimiento de los cambios en los datos, el código y los modelos, garantizando un historial completo de tu proyecto de aprendizaje automático.\n",
    "2. **Colaboración**: Facilita la colaboración dentro de los equipos al permitir que varios usuarios trabajen en el mismo proyecto manteniendo el historial de versiones.\n",
    "3. **Versionado de Datos**: Realiza un seguimiento de las versiones de los datos, lo que facilita la reproducción de experimentos y el intercambio de conjuntos de datos.\n",
    "4. **Reproducibilidad**: Asegura que los experimentos se puedan replicar con el mismo código, datos y entorno.\n",
    "5. **Interfaz Web**: Ofrece una interfaz web intuitiva para organizar y gestionar proyectos de aprendizaje automático.\n",
    "6. **Repositorios Públicos y Privados**: Ofrece tanto repositorios públicos como privados para compartir proyectos de manera abierta o segura.\n",
    "7. **Seguimiento de Experimentos**: Registra todos los detalles de los experimentos de aprendizaje automático, lo que facilita el análisis y la comparación de resultados.\n",
    "8. **Integración**: Se integra fácilmente con herramientas y formatos de código abierto populares, como Jupyter notebooks y Git.\n",
    "9. **Organización de Proyectos**: Proporciona herramientas para mantener estructurado y bien documentado tu proyecto de aprendizaje automático.\n",
    "\n",
    "\n",
    "## Dagshub\n",
    "\n",
    "1. Creamos una cuenta [aquí](https://dagshub.com/user/sign_up). Se puede asociar con la cuenta de GitHub.\n",
    "2. Cambiar contraseña.\n",
    "3. Crear un primer repositorio."
   ]
  },
  {
   "metadata": {},
   "cell_type": "markdown",
   "source": [
    "## Actividad\n",
    "Vamos a prepara el ambiente de trabajo para la siguiente clase:\n",
    "\n",
    "1. Creamos un repositorio en `Github` llamado `nyc-taxi-time-prediction`\n",
    "2. Vinculamos el repositorio a nuestra cuenta de `Dagshub`\n",
    "3. Clonamos el repositorio de `Github` en nuestro local\n",
    "4. Creamos un ambiente virtual\n",
    "5. Crear una branch `experiments`\n",
    "6. Crear un directorio `experiments` en la carpeta raíz del proyecto\n",
    "7. Crer un `jupyter-notebook` dentro de dicho directorio con el nombre `model_experiments.ipynb`"
   ]
  },
  {
   "metadata": {},
   "cell_type": "markdown",
   "source": "### Usando los modelos..."
  },
  {
   "metadata": {
    "collapsed": false
   },
   "cell_type": "code",
   "outputs": [],
   "execution_count": null,
   "source": [
    "import mlflow\n",
    "mlflow.set_tracking_uri('https://dagshub.com/zapatacc/churn-model-app.mlflow')\n",
    "logged_model = 'runs:/839d17c6a8004f5fa8f301a884268b6d/model'\n",
    "\n",
    "# Load model as a PyFuncModel.\n",
    "loaded_model = mlflow.pyfunc.load_model(logged_model)\n",
    "\n",
    "# Predict on a Pandas DataFrame.\n",
    "import pandas as pd\n",
    "loaded_model.predict(pd.DataFrame(data))"
   ]
  }
 ],
 "metadata": {
  "kernelspec": {
   "display_name": "Python 3 (ipykernel)",
   "language": "python",
   "name": "python3"
  },
  "language_info": {
   "codemirror_mode": {
    "name": "ipython",
    "version": 3
   },
   "file_extension": ".py",
   "mimetype": "text/x-python",
   "name": "python",
   "nbconvert_exporter": "python",
   "pygments_lexer": "ipython3",
   "version": "3.11.5"
  }
 },
 "nbformat": 4,
 "nbformat_minor": 4
}
